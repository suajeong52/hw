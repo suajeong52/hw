{
  "nbformat": 4,
  "nbformat_minor": 0,
  "metadata": {
    "colab": {
      "provenance": [],
      "authorship_tag": "ABX9TyPVliONolTE89kEkWZ/hjGz",
      "include_colab_link": true
    },
    "kernelspec": {
      "name": "python3",
      "display_name": "Python 3"
    },
    "language_info": {
      "name": "python"
    }
  },
  "cells": [
    {
      "cell_type": "markdown",
      "metadata": {
        "id": "view-in-github",
        "colab_type": "text"
      },
      "source": [
        "<a href=\"https://colab.research.google.com/github/suajeong52/hw/blob/main/3%EC%9E%A5_%EC%97%B0%EC%8A%B5%EB%AC%B8%EC%A0%9C.ipynb\" target=\"_parent\"><img src=\"https://colab.research.google.com/assets/colab-badge.svg\" alt=\"Open In Colab\"/></a>"
      ]
    },
    {
      "cell_type": "markdown",
      "source": [
        "**1번**"
      ],
      "metadata": {
        "id": "P8wszUF5E17f"
      }
    },
    {
      "cell_type": "markdown",
      "source": [
        "1-1번 "
      ],
      "metadata": {
        "id": "w1EXDgmaH4ZU"
      }
    },
    {
      "cell_type": "code",
      "source": [
        "import numpy as np\n",
        "import pandas as pd\n",
        "import matplotlib.pyplot as plt\n",
        "from sklearn.cluster import KMeans\n",
        "from sklearn.preprocessing import StandardScaler"
      ],
      "metadata": {
        "id": "5AySnb7JFLua"
      },
      "execution_count": 1,
      "outputs": []
    },
    {
      "cell_type": "code",
      "execution_count": 2,
      "metadata": {
        "colab": {
          "base_uri": "https://localhost:8080/"
        },
        "id": "ersQUd6hDiXI",
        "outputId": "2face1e5-eec5-4049-f99b-9eefbb686cae"
      },
      "outputs": [
        {
          "output_type": "stream",
          "name": "stdout",
          "text": [
            "5.0\n"
          ]
        }
      ],
      "source": [
        "d = np.sqrt((13-10)**2 + (19-15)**2)\n",
        "print(d)"
      ]
    },
    {
      "cell_type": "markdown",
      "source": [
        "  >> 1-1번 답 : 5"
      ],
      "metadata": {
        "id": "wTHEMBukH3lj"
      }
    },
    {
      "cell_type": "markdown",
      "source": [
        "1-2번"
      ],
      "metadata": {
        "id": "LnZRMlNhHSY0"
      }
    },
    {
      "cell_type": "code",
      "source": [
        "WSS_1 = 3**2 + 5**2 + 4**2 \n",
        "WSS_2 = 4**2 + 4**2\n",
        "\n",
        "print(WSS_1)\n",
        "print(WSS_2)"
      ],
      "metadata": {
        "colab": {
          "base_uri": "https://localhost:8080/"
        },
        "id": "jWXlgKSwG_H0",
        "outputId": "4e919d76-ad19-4e15-9059-b34668fd03fe"
      },
      "execution_count": 3,
      "outputs": [
        {
          "output_type": "stream",
          "name": "stdout",
          "text": [
            "50\n",
            "32\n"
          ]
        }
      ]
    },
    {
      "cell_type": "code",
      "source": [
        "TWSS = WSS_1 + WSS_2\n",
        "print(TWSS)"
      ],
      "metadata": {
        "colab": {
          "base_uri": "https://localhost:8080/"
        },
        "id": "YvnxGmbSH0Tx",
        "outputId": "1bd0a52d-d34e-4648-f62d-5d79674f6125"
      },
      "execution_count": 4,
      "outputs": [
        {
          "output_type": "stream",
          "name": "stdout",
          "text": [
            "82\n"
          ]
        }
      ]
    },
    {
      "cell_type": "markdown",
      "source": [
        "  1-2번 답 :\n",
        "  \n",
        "*   군집1 WSS = 50\n",
        "*   군집2 WSS = 32\n",
        "\n",
        "*   군집의 TWSS = 82\n",
        "\n",
        "\n",
        "\n"
      ],
      "metadata": {
        "id": "mNZLItbtIm71"
      }
    },
    {
      "cell_type": "markdown",
      "source": [
        "1-3번"
      ],
      "metadata": {
        "id": "n5vDfzgJJ4pJ"
      }
    },
    {
      "cell_type": "markdown",
      "source": [
        "  1-3번 답 : 4\n",
        "  \n",
        "*   군집수가 4에서 5로 갈때 급격히 줄어들기 때문"
      ],
      "metadata": {
        "id": "m_hxAj1hJkfp"
      }
    },
    {
      "cell_type": "markdown",
      "source": [
        "**2번**"
      ],
      "metadata": {
        "id": "LoRJME6bJGY0"
      }
    },
    {
      "cell_type": "code",
      "source": [
        "data2_1 = [1,4,3,6,2]\n",
        "data2_2 = [4,2,7,1,5]"
      ],
      "metadata": {
        "id": "MwwjNEYC3Hj4"
      },
      "execution_count": 5,
      "outputs": []
    },
    {
      "cell_type": "code",
      "source": [
        "data2 = np.array([[1,4], [4,2], [3,7], [6,1], [2,5]])\n",
        "\n",
        "data2"
      ],
      "metadata": {
        "colab": {
          "base_uri": "https://localhost:8080/"
        },
        "id": "uCWZFJz7IKPd",
        "outputId": "76266ad5-5a98-4dc6-ab99-9e0534577168"
      },
      "execution_count": 6,
      "outputs": [
        {
          "output_type": "execute_result",
          "data": {
            "text/plain": [
              "array([[1, 4],\n",
              "       [4, 2],\n",
              "       [3, 7],\n",
              "       [6, 1],\n",
              "       [2, 5]])"
            ]
          },
          "metadata": {},
          "execution_count": 6
        }
      ]
    },
    {
      "cell_type": "code",
      "source": [
        "# 표준화\n",
        "\n",
        "scaler = StandardScaler()\n",
        "scaler.fit(data2)\n",
        "data_std2 = scaler.transform(data2)\n",
        "print(data_std2)"
      ],
      "metadata": {
        "colab": {
          "base_uri": "https://localhost:8080/"
        },
        "id": "A6XFQLjzK0-d",
        "outputId": "3ca32dfc-344e-49b6-e2a9-032d8e34fbdb"
      },
      "execution_count": 7,
      "outputs": [
        {
          "output_type": "stream",
          "name": "stdout",
          "text": [
            "[[-1.27872403  0.09365858]\n",
            " [ 0.46499055 -0.84292723]\n",
            " [-0.11624764  1.4985373 ]\n",
            " [ 1.62746694 -1.31122014]\n",
            " [-0.69748583  0.56195149]]\n"
          ]
        }
      ]
    },
    {
      "cell_type": "code",
      "source": [
        "plt.scatter(data_std2[:,0], data_std2[:,1])\n",
        "plt.xlabel('X')\n",
        "plt.ylabel('Y')\n",
        "plt.xlim(-2, 2)\n",
        "plt.ylim(-2,2)\n",
        "\n",
        "rows,columns = data_std2.shape\n",
        "\n",
        "for i in range(rows):\n",
        "  plt.annotate(i+1, (data_std2[i,0], data_std2[i,1]))"
      ],
      "metadata": {
        "colab": {
          "base_uri": "https://localhost:8080/",
          "height": 455
        },
        "id": "rAfeV8W7LOca",
        "outputId": "936c73e3-9bdb-4c90-aeaa-93905ad8ff17"
      },
      "execution_count": 8,
      "outputs": [
        {
          "output_type": "display_data",
          "data": {
            "text/plain": [
              "<Figure size 640x480 with 1 Axes>"
            ],
            "image/png": "[encoded data removed]"
          },
          "metadata": {}
        }
      ]
    },
    {
      "cell_type": "code",
      "source": [
        "kmeans = KMeans(n_clusters=2)\n",
        "kmeans.fit(data_std2)\n",
        "print(kmeans.labels_)\n",
        "print(kmeans.cluster_centers_)"
      ],
      "metadata": {
        "colab": {
          "base_uri": "https://localhost:8080/"
        },
        "id": "sAjTQlhJL-4r",
        "outputId": "d22339bb-071c-49b3-9d3b-a598c6060378"
      },
      "execution_count": 9,
      "outputs": [
        {
          "output_type": "stream",
          "name": "stdout",
          "text": [
            "[1 0 1 0 1]\n",
            "[[ 1.04622875 -1.07707368]\n",
            " [-0.69748583  0.71804912]]\n"
          ]
        },
        {
          "output_type": "stream",
          "name": "stderr",
          "text": [
            "/usr/local/lib/python3.9/dist-packages/sklearn/cluster/_kmeans.py:870: FutureWarning: The default value of `n_init` will change from 10 to 'auto' in 1.4. Set the value of `n_init` explicitly to suppress the warning\n",
            "  warnings.warn(\n"
          ]
        }
      ]
    },
    {
      "cell_type": "code",
      "source": [
        "# 결과 분석\n",
        "# 군집 데이터 분포 \n",
        "plt.scatter(data_std2[:,0], data_std2[:,1], c=kmeans.labels_, s=50)\n",
        "# plt.title('X와 Y에 대한 분포: 표준화')\n",
        "plt.xlabel('X')\n",
        "plt.ylabel('Y')\n",
        "plt.xlim(-2, 2)\n",
        "plt.ylim(-2, 2)\n",
        "\n",
        "# 행과 열의 수\n",
        "rows, columns = data_std2.shape\n",
        "\n",
        "# 데이터 라벨\n",
        "for i in range(rows):\n",
        "  plt.annotate(i+1, (data_std2[i,0], data_std2[i,1]))  \n",
        "\n",
        "# 군집 중심 표시 \n",
        "plt.scatter(kmeans.cluster_centers_[:, 0], \n",
        "            kmeans.cluster_centers_[:, 1], \n",
        "            c='red', s=200, alpha=0.5);\n",
        "# 군집 라벨 \n",
        "for k in range(columns):\n",
        "  plt.annotate(k, \n",
        "              (kmeans.cluster_centers_[k, 0], kmeans.cluster_centers_[k, 1]))"
      ],
      "metadata": {
        "colab": {
          "base_uri": "https://localhost:8080/",
          "height": 455
        },
        "id": "ONju6E1DVEuw",
        "outputId": "27b3aede-5f09-433a-d159-f8374ecb1190"
      },
      "execution_count": 10,
      "outputs": [
        {
          "output_type": "display_data",
          "data": {
            "text/plain": [
              "<Figure size 640x480 with 1 Axes>"
            ],
            "image/png": "[encoded data removed]"
          },
          "metadata": {}
        }
      ]
    },
    {
      "cell_type": "code",
      "source": [
        "# 클러스터 수별 TWSS 값  \n",
        "TWSS = {}\n",
        "# 군집 수 1~5까지 반복 \n",
        "for k in range(1, 6): \n",
        "  # 군집 수 설정과 군집화 객체 생성 \n",
        "  model2 = KMeans(n_clusters=k)\n",
        "  # 표준화된 X, Y 데이터에 대한 군집화  \n",
        "  model2.fit(data_std2)\n",
        "  # 군집 수별 TWSS 값 저장 \n",
        "  TWSS[k] = model2.inertia_\n",
        "\n",
        "# # 군집 수에 따른 TWSS 그래프\n",
        "plt.plot(list(TWSS.keys()), list(TWSS.values()), marker='o')\n",
        "plt.xlabel(\"Number of Clusters(K)\")\n",
        "plt.ylabel(\"TWSS\")\n",
        "plt.show()"
      ],
      "metadata": {
        "colab": {
          "base_uri": "https://localhost:8080/",
          "height": 632
        },
        "id": "rQUU7Jz-Y0jx",
        "outputId": "5574735a-8639-485f-c1da-e94acf4e019e"
      },
      "execution_count": 11,
      "outputs": [
        {
          "output_type": "stream",
          "name": "stderr",
          "text": [
            "/usr/local/lib/python3.9/dist-packages/sklearn/cluster/_kmeans.py:870: FutureWarning: The default value of `n_init` will change from 10 to 'auto' in 1.4. Set the value of `n_init` explicitly to suppress the warning\n",
            "  warnings.warn(\n",
            "/usr/local/lib/python3.9/dist-packages/sklearn/cluster/_kmeans.py:870: FutureWarning: The default value of `n_init` will change from 10 to 'auto' in 1.4. Set the value of `n_init` explicitly to suppress the warning\n",
            "  warnings.warn(\n",
            "/usr/local/lib/python3.9/dist-packages/sklearn/cluster/_kmeans.py:870: FutureWarning: The default value of `n_init` will change from 10 to 'auto' in 1.4. Set the value of `n_init` explicitly to suppress the warning\n",
            "  warnings.warn(\n",
            "/usr/local/lib/python3.9/dist-packages/sklearn/cluster/_kmeans.py:870: FutureWarning: The default value of `n_init` will change from 10 to 'auto' in 1.4. Set the value of `n_init` explicitly to suppress the warning\n",
            "  warnings.warn(\n",
            "/usr/local/lib/python3.9/dist-packages/sklearn/cluster/_kmeans.py:870: FutureWarning: The default value of `n_init` will change from 10 to 'auto' in 1.4. Set the value of `n_init` explicitly to suppress the warning\n",
            "  warnings.warn(\n"
          ]
        },
        {
          "output_type": "display_data",
          "data": {
            "text/plain": [
              "<Figure size 640x480 with 1 Axes>"
            ],
            "image/png": "[encoded data removed]"
          },
          "metadata": {}
        }
      ]
    },
    {
      "cell_type": "code",
      "source": [
        "k1 = kmeans.cluster_centers_[:, 0]\n",
        "k1"
      ],
      "metadata": {
        "colab": {
          "base_uri": "https://localhost:8080/"
        },
        "id": "3czbeCvUY-y9",
        "outputId": "511eee95-b3fa-4be6-a205-5a56c516c636"
      },
      "execution_count": 12,
      "outputs": [
        {
          "output_type": "execute_result",
          "data": {
            "text/plain": [
              "array([ 1.04622875, -0.69748583])"
            ]
          },
          "metadata": {},
          "execution_count": 12
        }
      ]
    },
    {
      "cell_type": "code",
      "source": [
        "k2 = kmeans.cluster_centers_[:, 1]\n",
        "k2"
      ],
      "metadata": {
        "colab": {
          "base_uri": "https://localhost:8080/"
        },
        "id": "DQvLSVeIZfUL",
        "outputId": "bd82eccd-b579-4d5f-8173-69ce73d455ba"
      },
      "execution_count": 13,
      "outputs": [
        {
          "output_type": "execute_result",
          "data": {
            "text/plain": [
              "array([-1.07707368,  0.71804912])"
            ]
          },
          "metadata": {},
          "execution_count": 13
        }
      ]
    },
    {
      "cell_type": "code",
      "source": [
        "print(data_std2)"
      ],
      "metadata": {
        "colab": {
          "base_uri": "https://localhost:8080/"
        },
        "id": "uP2kWIT6ZpqC",
        "outputId": "feaac292-56dc-4faf-9fc0-a0f40931e437"
      },
      "execution_count": 14,
      "outputs": [
        {
          "output_type": "stream",
          "name": "stdout",
          "text": [
            "[[-1.27872403  0.09365858]\n",
            " [ 0.46499055 -0.84292723]\n",
            " [-0.11624764  1.4985373 ]\n",
            " [ 1.62746694 -1.31122014]\n",
            " [-0.69748583  0.56195149]]\n"
          ]
        }
      ]
    },
    {
      "cell_type": "code",
      "source": [
        "0.09365858, -0.84292723, 1.4985373, -1.31122014, 0.56195149"
      ],
      "metadata": {
        "colab": {
          "base_uri": "https://localhost:8080/"
        },
        "id": "0ULE5IRs1N6I",
        "outputId": "6a239eaa-5439-4201-c850-edf0db505e50"
      },
      "execution_count": 15,
      "outputs": [
        {
          "output_type": "execute_result",
          "data": {
            "text/plain": [
              "(0.09365858, -0.84292723, 1.4985373, -1.31122014, 0.56195149)"
            ]
          },
          "metadata": {},
          "execution_count": 15
        }
      ]
    },
    {
      "cell_type": "code",
      "source": [
        "d0_1 = np.sqrt((-0.69748583-(0.71804912))**2 + (-1.27872403-0.09365858)**2)\n",
        "d0_2 = np.sqrt((-0.69748583-(0.71804912))**2 + (0.46499055-(-0.84292723))**2)\n",
        "d0_3 = np.sqrt((-0.69748583-(0.71804912))**2 + (-0.11624764-1.4985373 )**2)\n",
        "d0_4 = np.sqrt((-0.69748583-(0.71804912))**2 + (1.62746694-(-1.31122014))**2)\n",
        "d0_5 = np.sqrt((-0.69748583-(0.71804912))**2 + (-0.69748583-0.56195149)**2)\n",
        "\n",
        "print(d0_1)\n",
        "print(d0_2)\n",
        "print(d0_3)\n",
        "print(d0_4)\n",
        "print(d0_5)"
      ],
      "metadata": {
        "colab": {
          "base_uri": "https://localhost:8080/"
        },
        "id": "8cmYBmsEwNB7",
        "outputId": "175d2838-d758-43c9-c6ba-e6d4a2e7e760"
      },
      "execution_count": 16,
      "outputs": [
        {
          "output_type": "stream",
          "name": "stdout",
          "text": [
            "1.9715915456559239\n",
            "1.9272747894142213\n",
            "2.1473866901707077\n",
            "3.261843182746594\n",
            "1.8947088319001115\n"
          ]
        }
      ]
    },
    {
      "cell_type": "code",
      "source": [
        "d1_1 = np.sqrt((1.04622875-(-1.07707368))**2 + (-1.27872403-0.09365858)**2)\n",
        "d1_2 = np.sqrt((1.04622875-(-1.07707368))**2 + (0.46499055-(-0.84292723))**2)\n",
        "d1_3 = np.sqrt((1.04622875-(-1.07707368))**2 + (-0.11624764-1.4985373 )**2)\n",
        "d1_4 = np.sqrt((1.04622875-(-1.07707368))**2 + (1.62746694-(-1.31122014))**2)\n",
        "d1_5 = np.sqrt((1.04622875-(-1.07707368))**2 + (-0.69748583-0.56195149)**2)\n",
        "\n",
        "print(d1_1)\n",
        "print(d1_2)\n",
        "print(d1_3)\n",
        "print(d1_4)\n",
        "print(d1_5)"
      ],
      "metadata": {
        "colab": {
          "base_uri": "https://localhost:8080/"
        },
        "id": "dDZUdSr4xgbs",
        "outputId": "73170e26-2964-44c3-a50a-e65d9d3b6346"
      },
      "execution_count": 17,
      "outputs": [
        {
          "output_type": "stream",
          "name": "stdout",
          "text": [
            "2.5282102834761027\n",
            "2.493804749470983\n",
            "2.6675726066397347\n",
            "3.62550616651011\n",
            "2.46872347018711\n"
          ]
        }
      ]
    },
    {
      "cell_type": "code",
      "source": [
        "WSS2_0 = d0_1**2 + d0_2**2 + d0_3**2 + d0_4**2 + d0_5**2\n",
        "WSS2_1 = d1_1**2 + d1_2**2 + d1_3**2 + d1_4**2 + d1_5**2\n",
        "\n",
        "print(WSS2_0)\n",
        "print(WSS2_1)"
      ],
      "metadata": {
        "colab": {
          "base_uri": "https://localhost:8080/"
        },
        "id": "TW8YmrjuzI13",
        "outputId": "9b7b6b89-bf4c-4d16-9795-59ed0c1c5399"
      },
      "execution_count": 18,
      "outputs": [
        {
          "output_type": "stream",
          "name": "stdout",
          "text": [
            "26.44237344044657\n",
            "38.965743513308574\n"
          ]
        }
      ]
    },
    {
      "cell_type": "code",
      "source": [
        "TWSS2 = WSS2_0+WSS2_1\n",
        "print(TWSS2)"
      ],
      "metadata": {
        "colab": {
          "base_uri": "https://localhost:8080/"
        },
        "id": "BAUAda6Yz8O-",
        "outputId": "501166bd-27f5-4db4-bbac-1237e106b23c"
      },
      "execution_count": 19,
      "outputs": [
        {
          "output_type": "stream",
          "name": "stdout",
          "text": [
            "65.40811695375514\n"
          ]
        }
      ]
    },
    {
      "cell_type": "code",
      "source": [
        "data2_1_m = np.mean(data2_1)\n",
        "data2_2_m = np.mean(data2_2)\n",
        "\n",
        "print(data2_1_m)\n",
        "print(data2_2_m)\n",
        "\n"
      ],
      "metadata": {
        "colab": {
          "base_uri": "https://localhost:8080/"
        },
        "id": "JoYcXAB60EU9",
        "outputId": "5b7f43e8-1ac6-43b1-94d7-c9f52d23d444"
      },
      "execution_count": 20,
      "outputs": [
        {
          "output_type": "stream",
          "name": "stdout",
          "text": [
            "3.2\n",
            "3.8\n"
          ]
        }
      ]
    },
    {
      "cell_type": "code",
      "source": [
        "data2_1_s = np.std(data2_1)\n",
        "data2_2_s = np.std(data2_2)\n",
        "\n",
        "print(data2_1_s)\n",
        "print(data2_2_s)"
      ],
      "metadata": {
        "colab": {
          "base_uri": "https://localhost:8080/"
        },
        "id": "Xud47Ek83zn5",
        "outputId": "62300544-ee05-4c13-9501-0fab9fb215ac"
      },
      "execution_count": 21,
      "outputs": [
        {
          "output_type": "stream",
          "name": "stdout",
          "text": [
            "1.7204650534085253\n",
            "2.1354156504062622\n"
          ]
        }
      ]
    },
    {
      "cell_type": "markdown",
      "source": [
        "  2-1번 답 :\n",
        "  \n",
        "\n",
        "\n",
        "1.   3.2\n",
        "2.   1.7204650534085253\n",
        "3.   3.8\n",
        "4.   2.1354156504062622\n",
        "5.   -1.27872403, 0.46499055, -0.11624764, 1.62746694, -0.69748583\n",
        "6.   0.09365858, -0.84292723, 1.4985373, -1.31122014, 0.56195149\n",
        "7.   1.9715915456559239,  1.9272747894142213,  2.1473866901707077,  3.261843182746594,  1.8947088319001115\n",
        "8.   2.5282102834761027,  2.493804749470983,  2.6675726066397347,  3.62550616651011,  2.46872347018711\n",
        "9.   1, 2, 1, 2, 1\n",
        "\n",
        "\n",
        "\n"
      ],
      "metadata": {
        "id": "UbZ0Qt0S0Se7"
      }
    },
    {
      "cell_type": "markdown",
      "source": [
        "  2-2번 답 :\n",
        "  \n",
        "*   군집1 중심 = (-0.69748583, 0.71804912)\n",
        "*   군집2 중심 = (1.04622875, -1.07707368)\n"
      ],
      "metadata": {
        "id": "z18LZh8o4Jre"
      }
    },
    {
      "cell_type": "markdown",
      "source": [
        "  2-3번 답 :\n",
        "  \n",
        "*   군집1 WSS = 26.44237344044657\n",
        "\n",
        "*   군집2 WSS = 38.965743513308574\n",
        "\n",
        "*   군집의 TWSS = 65.40811695375514"
      ],
      "metadata": {
        "id": "yqvjVeW14fwa"
      }
    },
    {
      "cell_type": "markdown",
      "source": [
        "**응용문제**"
      ],
      "metadata": {
        "id": "vCrEJE8_5Cx1"
      }
    },
    {
      "cell_type": "code",
      "source": [
        "import statsmodels.api as sm"
      ],
      "metadata": {
        "id": "Qg7OCBIh2SUL"
      },
      "execution_count": 22,
      "outputs": []
    },
    {
      "cell_type": "code",
      "source": [
        "mtcars = sm.datasets.get_rdataset(\"mtcars\", \"datasets\", cache=True).data\n",
        "print(mtcars)"
      ],
      "metadata": {
        "colab": {
          "base_uri": "https://localhost:8080/"
        },
        "id": "7u3gcTSW5NNi",
        "outputId": "780def5a-14db-448a-b3da-c56c696439d5"
      },
      "execution_count": 23,
      "outputs": [
        {
          "output_type": "stream",
          "name": "stdout",
          "text": [
            "                      mpg  cyl   disp   hp  drat     wt   qsec  vs  am  gear  \\\n",
            "Mazda RX4            21.0    6  160.0  110  3.90  2.620  16.46   0   1     4   \n",
            "Mazda RX4 Wag        21.0    6  160.0  110  3.90  2.875  17.02   0   1     4   \n",
            "Datsun 710           22.8    4  108.0   93  3.85  2.320  18.61   1   1     4   \n",
            "Hornet 4 Drive       21.4    6  258.0  110  3.08  3.215  19.44   1   0     3   \n",
            "Hornet Sportabout    18.7    8  360.0  175  3.15  3.440  17.02   0   0     3   \n",
            "Valiant              18.1    6  225.0  105  2.76  3.460  20.22   1   0     3   \n",
            "Duster 360           14.3    8  360.0  245  3.21  3.570  15.84   0   0     3   \n",
            "Merc 240D            24.4    4  146.7   62  3.69  3.190  20.00   1   0     4   \n",
            "Merc 230             22.8    4  140.8   95  3.92  3.150  22.90   1   0     4   \n",
            "Merc 280             19.2    6  167.6  123  3.92  3.440  18.30   1   0     4   \n",
            "Merc 280C            17.8    6  167.6  123  3.92  3.440  18.90   1   0     4   \n",
            "Merc 450SE           16.4    8  275.8  180  3.07  4.070  17.40   0   0     3   \n",
            "Merc 450SL           17.3    8  275.8  180  3.07  3.730  17.60   0   0     3   \n",
            "Merc 450SLC          15.2    8  275.8  180  3.07  3.780  18.00   0   0     3   \n",
            "Cadillac Fleetwood   10.4    8  472.0  205  2.93  5.250  17.98   0   0     3   \n",
            "Lincoln Continental  10.4    8  460.0  215  3.00  5.424  17.82   0   0     3   \n",
            "Chrysler Imperial    14.7    8  440.0  230  3.23  5.345  17.42   0   0     3   \n",
            "Fiat 128             32.4    4   78.7   66  4.08  2.200  19.47   1   1     4   \n",
            "Honda Civic          30.4    4   75.7   52  4.93  1.615  18.52   1   1     4   \n",
            "Toyota Corolla       33.9    4   71.1   65  4.22  1.835  19.90   1   1     4   \n",
            "Toyota Corona        21.5    4  120.1   97  3.70  2.465  20.01   1   0     3   \n",
            "Dodge Challenger     15.5    8  318.0  150  2.76  3.520  16.87   0   0     3   \n",
            "AMC Javelin          15.2    8  304.0  150  3.15  3.435  17.30   0   0     3   \n",
            "Camaro Z28           13.3    8  350.0  245  3.73  3.840  15.41   0   0     3   \n",
            "Pontiac Firebird     19.2    8  400.0  175  3.08  3.845  17.05   0   0     3   \n",
            "Fiat X1-9            27.3    4   79.0   66  4.08  1.935  18.90   1   1     4   \n",
            "Porsche 914-2        26.0    4  120.3   91  4.43  2.140  16.70   0   1     5   \n",
            "Lotus Europa         30.4    4   95.1  113  3.77  1.513  16.90   1   1     5   \n",
            "Ford Pantera L       15.8    8  351.0  264  4.22  3.170  14.50   0   1     5   \n",
            "Ferrari Dino         19.7    6  145.0  175  3.62  2.770  15.50   0   1     5   \n",
            "Maserati Bora        15.0    8  301.0  335  3.54  3.570  14.60   0   1     5   \n",
            "Volvo 142E           21.4    4  121.0  109  4.11  2.780  18.60   1   1     4   \n",
            "\n",
            "                     carb  \n",
            "Mazda RX4               4  \n",
            "Mazda RX4 Wag           4  \n",
            "Datsun 710              1  \n",
            "Hornet 4 Drive          1  \n",
            "Hornet Sportabout       2  \n",
            "Valiant                 1  \n",
            "Duster 360              4  \n",
            "Merc 240D               2  \n",
            "Merc 230                2  \n",
            "Merc 280                4  \n",
            "Merc 280C               4  \n",
            "Merc 450SE              3  \n",
            "Merc 450SL              3  \n",
            "Merc 450SLC             3  \n",
            "Cadillac Fleetwood      4  \n",
            "Lincoln Continental     4  \n",
            "Chrysler Imperial       4  \n",
            "Fiat 128                1  \n",
            "Honda Civic             2  \n",
            "Toyota Corolla          1  \n",
            "Toyota Corona           1  \n",
            "Dodge Challenger        2  \n",
            "AMC Javelin             2  \n",
            "Camaro Z28              4  \n",
            "Pontiac Firebird        2  \n",
            "Fiat X1-9               1  \n",
            "Porsche 914-2           2  \n",
            "Lotus Europa            2  \n",
            "Ford Pantera L          4  \n",
            "Ferrari Dino            6  \n",
            "Maserati Bora           8  \n",
            "Volvo 142E              2  \n"
          ]
        }
      ]
    },
    {
      "cell_type": "code",
      "source": [
        "data = mtcars[['hp', 'mpg']]\n",
        "\n",
        "print(data)"
      ],
      "metadata": {
        "colab": {
          "base_uri": "https://localhost:8080/"
        },
        "id": "_0r7XmtQ5ZFO",
        "outputId": "2ed58f14-807a-4c4f-f874-62429631f330"
      },
      "execution_count": 24,
      "outputs": [
        {
          "output_type": "stream",
          "name": "stdout",
          "text": [
            "                      hp   mpg\n",
            "Mazda RX4            110  21.0\n",
            "Mazda RX4 Wag        110  21.0\n",
            "Datsun 710            93  22.8\n",
            "Hornet 4 Drive       110  21.4\n",
            "Hornet Sportabout    175  18.7\n",
            "Valiant              105  18.1\n",
            "Duster 360           245  14.3\n",
            "Merc 240D             62  24.4\n",
            "Merc 230              95  22.8\n",
            "Merc 280             123  19.2\n",
            "Merc 280C            123  17.8\n",
            "Merc 450SE           180  16.4\n",
            "Merc 450SL           180  17.3\n",
            "Merc 450SLC          180  15.2\n",
            "Cadillac Fleetwood   205  10.4\n",
            "Lincoln Continental  215  10.4\n",
            "Chrysler Imperial    230  14.7\n",
            "Fiat 128              66  32.4\n",
            "Honda Civic           52  30.4\n",
            "Toyota Corolla        65  33.9\n",
            "Toyota Corona         97  21.5\n",
            "Dodge Challenger     150  15.5\n",
            "AMC Javelin          150  15.2\n",
            "Camaro Z28           245  13.3\n",
            "Pontiac Firebird     175  19.2\n",
            "Fiat X1-9             66  27.3\n",
            "Porsche 914-2         91  26.0\n",
            "Lotus Europa         113  30.4\n",
            "Ford Pantera L       264  15.8\n",
            "Ferrari Dino         175  19.7\n",
            "Maserati Bora        335  15.0\n",
            "Volvo 142E           109  21.4\n"
          ]
        }
      ]
    },
    {
      "cell_type": "code",
      "source": [
        "df3 = data[['hp', 'mpg']]"
      ],
      "metadata": {
        "id": "UgV19JNkLHPq"
      },
      "execution_count": 25,
      "outputs": []
    },
    {
      "cell_type": "markdown",
      "source": [
        "**산포도그리기**"
      ],
      "metadata": {
        "id": "oYMkxEbHLwsf"
      }
    },
    {
      "cell_type": "code",
      "source": [
        "df3.plot.scatter(x='hp', y='mpg')\n",
        "plt.xlabel(\"hp\")\n",
        "plt.ylabel(\"mpg\")"
      ],
      "metadata": {
        "colab": {
          "base_uri": "https://localhost:8080/",
          "height": 509
        },
        "id": "w-2NflCpLV9u",
        "outputId": "36b92fc4-85ec-489e-f2fc-46a623f6ebba"
      },
      "execution_count": 26,
      "outputs": [
        {
          "output_type": "stream",
          "name": "stderr",
          "text": [
            "/usr/local/lib/python3.9/dist-packages/pandas/plotting/_matplotlib/core.py:1114: UserWarning: No data for colormapping provided via 'c'. Parameters 'cmap' will be ignored\n",
            "  scatter = ax.scatter(\n"
          ]
        },
        {
          "output_type": "execute_result",
          "data": {
            "text/plain": [
              "Text(0, 0.5, 'mpg')"
            ]
          },
          "metadata": {},
          "execution_count": 26
        },
        {
          "output_type": "display_data",
          "data": {
            "text/plain": [
              "<Figure size 640x480 with 1 Axes>"
            ],
            "image/png": "[encoded data removed]"
          },
          "metadata": {}
        }
      ]
    },
    {
      "cell_type": "markdown",
      "source": [
        "**데이터 표준화**"
      ],
      "metadata": {
        "id": "1BMM0KTLL0Ek"
      }
    },
    {
      "cell_type": "code",
      "source": [
        "scaler = StandardScaler()\n",
        "data_std = scaler.fit_transform(data)\n",
        "print(data_std)"
      ],
      "metadata": {
        "colab": {
          "base_uri": "https://localhost:8080/"
        },
        "id": "iiBuqaYM7vtp",
        "outputId": "047b2f50-35fa-4748-9486-72af554cf0a2"
      },
      "execution_count": 27,
      "outputs": [
        {
          "output_type": "stream",
          "name": "stdout",
          "text": [
            "[[-0.54365487  0.15329914]\n",
            " [-0.54365487  0.15329914]\n",
            " [-0.7955699   0.4567366 ]\n",
            " [-0.54365487  0.22072968]\n",
            " [ 0.41954967 -0.23442651]\n",
            " [-0.61774753 -0.33557233]\n",
            " [ 1.45684686 -0.97616253]\n",
            " [-1.25494437  0.72645879]\n",
            " [-0.76593284  0.4567366 ]\n",
            " [-0.35101396 -0.15013833]\n",
            " [-0.35101396 -0.38614524]\n",
            " [ 0.49364233 -0.62215216]\n",
            " [ 0.49364233 -0.47043343]\n",
            " [ 0.49364233 -0.8244438 ]\n",
            " [ 0.86410561 -1.63361037]\n",
            " [ 1.01229092 -1.63361037]\n",
            " [ 1.23456889 -0.90873199]\n",
            " [-1.19567025  2.07506974]\n",
            " [-1.40312969  1.737917  ]\n",
            " [-1.21048878  2.32793429]\n",
            " [-0.73629578  0.23758732]\n",
            " [ 0.04908639 -0.77387089]\n",
            " [ 0.04908639 -0.8244438 ]\n",
            " [ 1.45684686 -1.1447389 ]\n",
            " [ 0.41954967 -0.15013833]\n",
            " [-1.19567025  1.21533026]\n",
            " [-0.82520696  0.99618098]\n",
            " [-0.49919927  1.737917  ]\n",
            " [ 1.73839896 -0.72329798]\n",
            " [ 0.41954967 -0.06585014]\n",
            " [ 2.79051468 -0.85815908]\n",
            " [-0.5584734   0.22072968]]\n"
          ]
        }
      ]
    },
    {
      "cell_type": "code",
      "source": [
        "X = data_std[:, 0]\n",
        "Y = data_std[:, 1]\n",
        "\n",
        "plt.scatter(X, Y)\n",
        "plt.xlabel(\"hp\")\n",
        "plt.ylabel(\"mpg\")"
      ],
      "metadata": {
        "colab": {
          "base_uri": "https://localhost:8080/",
          "height": 471
        },
        "id": "vhKhXwJgMKcc",
        "outputId": "561e3999-e7fa-4769-9348-4cccb779b05d"
      },
      "execution_count": 28,
      "outputs": [
        {
          "output_type": "execute_result",
          "data": {
            "text/plain": [
              "Text(0, 0.5, 'mpg')"
            ]
          },
          "metadata": {},
          "execution_count": 28
        },
        {
          "output_type": "display_data",
          "data": {
            "text/plain": [
              "<Figure size 640x480 with 1 Axes>"
            ],
            "image/png": "[encoded data removed]"
          },
          "metadata": {}
        }
      ]
    },
    {
      "cell_type": "markdown",
      "source": [
        "**군집화**"
      ],
      "metadata": {
        "id": "eaqms9N0M-IL"
      }
    },
    {
      "cell_type": "code",
      "source": [
        "# 클러스터 수별 TWSS 값  \n",
        "TWSS = {}\n",
        " \n",
        "for k in range(1, 11): \n",
        "  model = KMeans(n_clusters=k)\n",
        "  model.fit(data_std)\n",
        "  TWSS[k] = model.inertia_\n",
        "\n",
        "# # 군집 수에 따른 TWSS 그래프\n",
        "plt.plot(list(TWSS.keys()), list(TWSS.values()), marker='o')\n",
        "plt.xlabel(\"Number of Clusters(K)\")\n",
        "plt.ylabel(\"TWSS\")\n",
        "plt.show()"
      ],
      "metadata": {
        "colab": {
          "base_uri": "https://localhost:8080/",
          "height": 814
        },
        "id": "agEfopnyM7Rk",
        "outputId": "19f9dc24-9253-4e43-f0a1-c0e2a20fb2e0"
      },
      "execution_count": 29,
      "outputs": [
        {
          "output_type": "stream",
          "name": "stderr",
          "text": [
            "/usr/local/lib/python3.9/dist-packages/sklearn/cluster/_kmeans.py:870: FutureWarning: The default value of `n_init` will change from 10 to 'auto' in 1.4. Set the value of `n_init` explicitly to suppress the warning\n",
            "  warnings.warn(\n",
            "/usr/local/lib/python3.9/dist-packages/sklearn/cluster/_kmeans.py:870: FutureWarning: The default value of `n_init` will change from 10 to 'auto' in 1.4. Set the value of `n_init` explicitly to suppress the warning\n",
            "  warnings.warn(\n",
            "/usr/local/lib/python3.9/dist-packages/sklearn/cluster/_kmeans.py:870: FutureWarning: The default value of `n_init` will change from 10 to 'auto' in 1.4. Set the value of `n_init` explicitly to suppress the warning\n",
            "  warnings.warn(\n",
            "/usr/local/lib/python3.9/dist-packages/sklearn/cluster/_kmeans.py:870: FutureWarning: The default value of `n_init` will change from 10 to 'auto' in 1.4. Set the value of `n_init` explicitly to suppress the warning\n",
            "  warnings.warn(\n",
            "/usr/local/lib/python3.9/dist-packages/sklearn/cluster/_kmeans.py:870: FutureWarning: The default value of `n_init` will change from 10 to 'auto' in 1.4. Set the value of `n_init` explicitly to suppress the warning\n",
            "  warnings.warn(\n",
            "/usr/local/lib/python3.9/dist-packages/sklearn/cluster/_kmeans.py:870: FutureWarning: The default value of `n_init` will change from 10 to 'auto' in 1.4. Set the value of `n_init` explicitly to suppress the warning\n",
            "  warnings.warn(\n",
            "/usr/local/lib/python3.9/dist-packages/sklearn/cluster/_kmeans.py:870: FutureWarning: The default value of `n_init` will change from 10 to 'auto' in 1.4. Set the value of `n_init` explicitly to suppress the warning\n",
            "  warnings.warn(\n",
            "/usr/local/lib/python3.9/dist-packages/sklearn/cluster/_kmeans.py:870: FutureWarning: The default value of `n_init` will change from 10 to 'auto' in 1.4. Set the value of `n_init` explicitly to suppress the warning\n",
            "  warnings.warn(\n",
            "/usr/local/lib/python3.9/dist-packages/sklearn/cluster/_kmeans.py:870: FutureWarning: The default value of `n_init` will change from 10 to 'auto' in 1.4. Set the value of `n_init` explicitly to suppress the warning\n",
            "  warnings.warn(\n",
            "/usr/local/lib/python3.9/dist-packages/sklearn/cluster/_kmeans.py:870: FutureWarning: The default value of `n_init` will change from 10 to 'auto' in 1.4. Set the value of `n_init` explicitly to suppress the warning\n",
            "  warnings.warn(\n"
          ]
        },
        {
          "output_type": "display_data",
          "data": {
            "text/plain": [
              "<Figure size 640x480 with 1 Axes>"
            ],
            "image/png": "[encoded data removed]"
          },
          "metadata": {}
        }
      ]
    },
    {
      "cell_type": "code",
      "source": [
        "K=4\n",
        "kmeans = KMeans(n_clusters=K)\n",
        "kmeans.fit(data_std)\n",
        "# 군집 중심 \n",
        "centers = kmeans.cluster_centers_\n",
        "# 군집 라벨 \n",
        "labels = kmeans.labels_\n",
        "print(centers)\n",
        "print(labels)"
      ],
      "metadata": {
        "colab": {
          "base_uri": "https://localhost:8080/"
        },
        "id": "HEGXZb7iNMOm",
        "outputId": "870e3739-630b-4dc5-d73c-72a20b71c2dc"
      },
      "execution_count": 30,
      "outputs": [
        {
          "output_type": "stream",
          "name": "stdout",
          "text": [
            "[[ 1.50765326 -1.12547303]\n",
            " [-0.68510449  0.28509521]\n",
            " [ 0.27630387 -0.48354492]\n",
            " [-1.10083165  1.81883366]]\n",
            "[1 1 1 1 2 1 0 1 1 1 2 2 2 2 0 0 0 3 3 3 1 2 2 0 2 3 1 3 0 2 0 1]\n"
          ]
        },
        {
          "output_type": "stream",
          "name": "stderr",
          "text": [
            "/usr/local/lib/python3.9/dist-packages/sklearn/cluster/_kmeans.py:870: FutureWarning: The default value of `n_init` will change from 10 to 'auto' in 1.4. Set the value of `n_init` explicitly to suppress the warning\n",
            "  warnings.warn(\n"
          ]
        }
      ]
    },
    {
      "cell_type": "code",
      "source": [
        "X = data_std[:, 0]\n",
        "Y = data_std[:, 1]\n",
        "plt.scatter(X, Y)\n",
        "plt.title('mtcars')\n",
        "plt.xlabel('hp')\n",
        "plt.ylabel('mpg')\n",
        "\n",
        "# 군집 중심 표시 \n",
        "X = centers[:, 0]\n",
        "Y = centers[:, 1]\n",
        "plt.scatter(X, Y, c='red', s=200, alpha=0.5);\n",
        "plt.show()"
      ],
      "metadata": {
        "colab": {
          "base_uri": "https://localhost:8080/",
          "height": 472
        },
        "id": "01FM3BCENed7",
        "outputId": "f5e1c53b-3c07-487f-b641-502686ed0a80"
      },
      "execution_count": 31,
      "outputs": [
        {
          "output_type": "display_data",
          "data": {
            "text/plain": [
              "<Figure size 640x480 with 1 Axes>"
            ],
            "image/png": "[encoded data removed]"
          },
          "metadata": {}
        }
      ]
    },
    {
      "cell_type": "markdown",
      "source": [
        "**클러스터 출력**"
      ],
      "metadata": {
        "id": "19k3SI-LOBob"
      }
    },
    {
      "cell_type": "markdown",
      "source": [
        "군집은 4개, 군집수가 4에서 5로 갈때 급격히 줄어들기 때문"
      ],
      "metadata": {
        "id": "tYfe1FXvOvz4"
      }
    },
    {
      "cell_type": "code",
      "source": [],
      "metadata": {
        "id": "GuHcMQPMOECs"
      },
      "execution_count": 31,
      "outputs": []
    }
  ]
}