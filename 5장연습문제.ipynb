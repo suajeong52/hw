{
  "nbformat": 4,
  "nbformat_minor": 0,
  "metadata": {
    "colab": {
      "provenance": [],
      "authorship_tag": "ABX9TyNkJkPZd2CTMkek6DV8D+zS",
      "include_colab_link": true
    },
    "kernelspec": {
      "name": "python3",
      "display_name": "Python 3"
    },
    "language_info": {
      "name": "python"
    }
  },
  "cells": [
    {
      "cell_type": "markdown",
      "metadata": {
        "id": "view-in-github",
        "colab_type": "text"
      },
      "source": [
        "<a href=\"https://colab.research.google.com/github/suajeong52/hw/blob/main/5%EC%9E%A5%EC%97%B0%EC%8A%B5%EB%AC%B8%EC%A0%9C.ipynb\" target=\"_parent\"><img src=\"https://colab.research.google.com/assets/colab-badge.svg\" alt=\"Open In Colab\"/></a>"
      ]
    },
    {
      "cell_type": "code",
      "source": [
        "from sklearn.neighbors import KNeighborsClassifier\n",
        "from sklearn.neighbors import KNeighborsRegressor\n",
        "from sklearn.preprocessing import StandardScaler\n",
        "from sklearn.model_selection import train_test_split\n",
        "from sklearn.metrics import confusion_matrix\n",
        "import numpy as np\n",
        "import matplotlib.pyplot as plt "
      ],
      "metadata": {
        "id": "KgKxNQ7bRF8v"
      },
      "execution_count": 1,
      "outputs": []
    },
    {
      "cell_type": "markdown",
      "source": [
        "**1번**"
      ],
      "metadata": {
        "id": "fw0-RIywklVq"
      }
    },
    {
      "cell_type": "code",
      "execution_count": 2,
      "metadata": {
        "colab": {
          "base_uri": "https://localhost:8080/"
        },
        "id": "YOcOTI8fQs9s",
        "outputId": "d56d48df-2e59-4119-ba2b-cedc90e662e2"
      },
      "outputs": [
        {
          "output_type": "stream",
          "name": "stdout",
          "text": [
            "3.605551275463989\n"
          ]
        }
      ],
      "source": [
        "d1_1 = np.sqrt(((1-4)**2) + ((4-2)**2))\n",
        "print(d1_1)"
      ]
    },
    {
      "cell_type": "code",
      "source": [
        "d1_2 = 5"
      ],
      "metadata": {
        "id": "yTYoVAwaRcrI"
      },
      "execution_count": 3,
      "outputs": []
    },
    {
      "cell_type": "code",
      "source": [
        "from scipy.spatial import distance"
      ],
      "metadata": {
        "id": "r4wVwVZhUZZT"
      },
      "execution_count": 4,
      "outputs": []
    },
    {
      "cell_type": "code",
      "source": [
        "d1_3 = distance.minkowski([1,4], [4,2], 1)\n",
        "print(d1_3)"
      ],
      "metadata": {
        "colab": {
          "base_uri": "https://localhost:8080/"
        },
        "id": "vAhHbUSFRoOd",
        "outputId": "335c9bc4-c7ed-40e7-c7d6-f2d971905a52"
      },
      "execution_count": 5,
      "outputs": [
        {
          "output_type": "stream",
          "name": "stdout",
          "text": [
            "5.0\n"
          ]
        }
      ]
    },
    {
      "cell_type": "code",
      "source": [
        "d1_4 = distance.minkowski([1,4], [4,2], 2)\n",
        "print(d1_4)"
      ],
      "metadata": {
        "colab": {
          "base_uri": "https://localhost:8080/"
        },
        "id": "464eTrr_Us4m",
        "outputId": "ab3e4b61-104c-4e1f-88a7-c1b3dc11cd52"
      },
      "execution_count": 6,
      "outputs": [
        {
          "output_type": "stream",
          "name": "stdout",
          "text": [
            "3.605551275463989\n"
          ]
        }
      ]
    },
    {
      "cell_type": "code",
      "source": [
        "d1_5 = distance.cosine([1,4], [4,2])\n",
        "print(d1_5)"
      ],
      "metadata": {
        "colab": {
          "base_uri": "https://localhost:8080/"
        },
        "id": "6miV6Nu0jMiC",
        "outputId": "59fed1a5-39d3-45b8-c3ec-3fdb8a8eccd8"
      },
      "execution_count": 7,
      "outputs": [
        {
          "output_type": "stream",
          "name": "stdout",
          "text": [
            "0.3492086265440315\n"
          ]
        }
      ]
    },
    {
      "cell_type": "markdown",
      "source": [
        "**1번 답**\n",
        "  \n",
        "\n",
        "\n",
        "1.   3.605551275463989\n",
        "2.   5\n",
        "3.   5 - 차수가 1일 땐, 민코브스키 거리와 맨하탄 거리가 같다.\n",
        "4.   3.605551275463989 - 차수가 2일 땐, 민코브스키 거리와 유클리드 거리가 같다.\n",
        "5.   0.3492086265440315\n",
        "\n",
        "\n"
      ],
      "metadata": {
        "id": "7k0T-1D7jcBE"
      }
    },
    {
      "cell_type": "markdown",
      "source": [
        "**2번_분류**"
      ],
      "metadata": {
        "id": "RAPLVg2Ok09d"
      }
    },
    {
      "cell_type": "code",
      "source": [
        "X_train1 = np.array([[10,8],\n",
        "                    [20,4],\n",
        "                    [20,6],\n",
        "                    [40,4],\n",
        "                    [50,8]])\n",
        "\n",
        "Y_train1 = np.array([0,0,0,1,1])"
      ],
      "metadata": {
        "id": "_WzwAPlRjWX7"
      },
      "execution_count": 8,
      "outputs": []
    },
    {
      "cell_type": "code",
      "source": [
        "X_test1 = np.array([[30,6]])"
      ],
      "metadata": {
        "id": "1RaY-p9ulry8"
      },
      "execution_count": 9,
      "outputs": []
    },
    {
      "cell_type": "code",
      "source": [
        "plt.scatter(X_train1[:, 0], X_train1[:, 1], c=Y_train1) \n",
        "# 테스트용 데이터\n",
        "plt.scatter(X_test1[:, 0], X_test1[:, 1], c='red', marker = 'D', s=100)\n",
        "plt.xlabel('x1')\n",
        "plt.ylabel('x2')\n",
        "plt.show() "
      ],
      "metadata": {
        "colab": {
          "base_uri": "https://localhost:8080/",
          "height": 449
        },
        "id": "cSlWTYNFog85",
        "outputId": "63c9bbee-e654-428c-838e-d2dd4ff74765"
      },
      "execution_count": 10,
      "outputs": [
        {
          "output_type": "display_data",
          "data": {
            "text/plain": [
              "<Figure size 640x480 with 1 Axes>"
            ],
            "image/png": "[encoded data removed]"
          },
          "metadata": {}
        }
      ]
    },
    {
      "cell_type": "code",
      "source": [
        "#피처 스케일링\n",
        "scalerX1 = StandardScaler()\n",
        "scalerX1.fit(X_train1)\n",
        "X_train_std1 = scalerX1.transform(X_train1)\n",
        "print(X_train_std1)"
      ],
      "metadata": {
        "colab": {
          "base_uri": "https://localhost:8080/"
        },
        "id": "EVdsRv3GnX26",
        "outputId": "42d41713-04f7-4b60-dff8-580b2389485f"
      },
      "execution_count": 11,
      "outputs": [
        {
          "output_type": "stream",
          "name": "stdout",
          "text": [
            "[[-1.22474487  1.11803399]\n",
            " [-0.54433105 -1.11803399]\n",
            " [-0.54433105  0.        ]\n",
            " [ 0.81649658 -1.11803399]\n",
            " [ 1.4969104   1.11803399]]\n"
          ]
        }
      ]
    },
    {
      "cell_type": "code",
      "source": [
        "# 피처 스케일링: 테스트용 데이터 \n",
        "X_test_std1 = scalerX1.transform(X_test1)\n",
        "print(X_test_std1)"
      ],
      "metadata": {
        "colab": {
          "base_uri": "https://localhost:8080/"
        },
        "id": "BPrRzvXroX2n",
        "outputId": "1ede7973-db2e-4612-9e75-bbd8cf8d301d"
      },
      "execution_count": 12,
      "outputs": [
        {
          "output_type": "stream",
          "name": "stdout",
          "text": [
            "[[0.13608276 0.        ]]\n"
          ]
        }
      ]
    },
    {
      "cell_type": "code",
      "source": [
        "# 모형화 \n",
        "knn = KNeighborsClassifier(n_neighbors = 3, metric='euclidean')\n",
        "# 학습\n",
        "knn.fit(X_train_std1, Y_train1)"
      ],
      "metadata": {
        "colab": {
          "base_uri": "https://localhost:8080/",
          "height": 74
        },
        "id": "frjgxNhZo8Mb",
        "outputId": "ab2c0f0a-fd9c-42e6-fc8e-63337dad6d74"
      },
      "execution_count": 13,
      "outputs": [
        {
          "output_type": "execute_result",
          "data": {
            "text/plain": [
              "KNeighborsClassifier(metric='euclidean', n_neighbors=3)"
            ],
            "text/html": [
              "<style>#sk-container-id-1 {color: black;background-color: white;}#sk-container-id-1 pre{padding: 0;}#sk-container-id-1 div.sk-toggleable {background-color: white;}#sk-container-id-1 label.sk-toggleable__label {cursor: pointer;display: block;width: 100%;margin-bottom: 0;padding: 0.3em;box-sizing: border-box;text-align: center;}#sk-container-id-1 label.sk-toggleable__label-arrow:before {content: \"▸\";float: left;margin-right: 0.25em;color: #696969;}#sk-container-id-1 label.sk-toggleable__label-arrow:hover:before {color: black;}#sk-container-id-1 div.sk-estimator:hover label.sk-toggleable__label-arrow:before {color: black;}#sk-container-id-1 div.sk-toggleable__content {max-height: 0;max-width: 0;overflow: hidden;text-align: left;background-color: #f0f8ff;}#sk-container-id-1 div.sk-toggleable__content pre {margin: 0.2em;color: black;border-radius: 0.25em;background-color: #f0f8ff;}#sk-container-id-1 input.sk-toggleable__control:checked~div.sk-toggleable__content {max-height: 200px;max-width: 100%;overflow: auto;}#sk-container-id-1 input.sk-toggleable__control:checked~label.sk-toggleable__label-arrow:before {content: \"▾\";}#sk-container-id-1 div.sk-estimator input.sk-toggleable__control:checked~label.sk-toggleable__label {background-color: #d4ebff;}#sk-container-id-1 div.sk-label input.sk-toggleable__control:checked~label.sk-toggleable__label {background-color: #d4ebff;}#sk-container-id-1 input.sk-hidden--visually {border: 0;clip: rect(1px 1px 1px 1px);clip: rect(1px, 1px, 1px, 1px);height: 1px;margin: -1px;overflow: hidden;padding: 0;position: absolute;width: 1px;}#sk-container-id-1 div.sk-estimator {font-family: monospace;background-color: #f0f8ff;border: 1px dotted black;border-radius: 0.25em;box-sizing: border-box;margin-bottom: 0.5em;}#sk-container-id-1 div.sk-estimator:hover {background-color: #d4ebff;}#sk-container-id-1 div.sk-parallel-item::after {content: \"\";width: 100%;border-bottom: 1px solid gray;flex-grow: 1;}#sk-container-id-1 div.sk-label:hover label.sk-toggleable__label {background-color: #d4ebff;}#sk-container-id-1 div.sk-serial::before {content: \"\";position: absolute;border-left: 1px solid gray;box-sizing: border-box;top: 0;bottom: 0;left: 50%;z-index: 0;}#sk-container-id-1 div.sk-serial {display: flex;flex-direction: column;align-items: center;background-color: white;padding-right: 0.2em;padding-left: 0.2em;position: relative;}#sk-container-id-1 div.sk-item {position: relative;z-index: 1;}#sk-container-id-1 div.sk-parallel {display: flex;align-items: stretch;justify-content: center;background-color: white;position: relative;}#sk-container-id-1 div.sk-item::before, #sk-container-id-1 div.sk-parallel-item::before {content: \"\";position: absolute;border-left: 1px solid gray;box-sizing: border-box;top: 0;bottom: 0;left: 50%;z-index: -1;}#sk-container-id-1 div.sk-parallel-item {display: flex;flex-direction: column;z-index: 1;position: relative;background-color: white;}#sk-container-id-1 div.sk-parallel-item:first-child::after {align-self: flex-end;width: 50%;}#sk-container-id-1 div.sk-parallel-item:last-child::after {align-self: flex-start;width: 50%;}#sk-container-id-1 div.sk-parallel-item:only-child::after {width: 0;}#sk-container-id-1 div.sk-dashed-wrapped {border: 1px dashed gray;margin: 0 0.4em 0.5em 0.4em;box-sizing: border-box;padding-bottom: 0.4em;background-color: white;}#sk-container-id-1 div.sk-label label {font-family: monospace;font-weight: bold;display: inline-block;line-height: 1.2em;}#sk-container-id-1 div.sk-label-container {text-align: center;}#sk-container-id-1 div.sk-container {/* jupyter's `normalize.less` sets `[hidden] { display: none; }` but bootstrap.min.css set `[hidden] { display: none !important; }` so we also need the `!important` here to be able to override the default hidden behavior on the sphinx rendered scikit-learn.org. See: https://github.com/scikit-learn/scikit-learn/issues/21755 */display: inline-block !important;position: relative;}#sk-container-id-1 div.sk-text-repr-fallback {display: none;}</style><div id=\"sk-container-id-1\" class=\"sk-top-container\"><div class=\"sk-text-repr-fallback\"><pre>KNeighborsClassifier(metric=&#x27;euclidean&#x27;, n_neighbors=3)</pre><b>In a Jupyter environment, please rerun this cell to show the HTML representation or trust the notebook. <br />On GitHub, the HTML representation is unable to render, please try loading this page with nbviewer.org.</b></div><div class=\"sk-container\" hidden><div class=\"sk-item\"><div class=\"sk-estimator sk-toggleable\"><input class=\"sk-toggleable__control sk-hidden--visually\" id=\"sk-estimator-id-1\" type=\"checkbox\" checked><label for=\"sk-estimator-id-1\" class=\"sk-toggleable__label sk-toggleable__label-arrow\">KNeighborsClassifier</label><div class=\"sk-toggleable__content\"><pre>KNeighborsClassifier(metric=&#x27;euclidean&#x27;, n_neighbors=3)</pre></div></div></div></div></div>"
            ]
          },
          "metadata": {},
          "execution_count": 13
        }
      ]
    },
    {
      "cell_type": "code",
      "source": [
        "# 예측 \n",
        "pred1 = knn.predict(X_test_std1)\n",
        "print(pred1)"
      ],
      "metadata": {
        "colab": {
          "base_uri": "https://localhost:8080/"
        },
        "id": "v-4yzQwLpKI4",
        "outputId": "225386bc-acec-460b-8c74-222407524b36"
      },
      "execution_count": 14,
      "outputs": [
        {
          "output_type": "stream",
          "name": "stdout",
          "text": [
            "[0]\n"
          ]
        }
      ]
    },
    {
      "cell_type": "code",
      "source": [
        "knn.predict_proba(X_test_std1)"
      ],
      "metadata": {
        "colab": {
          "base_uri": "https://localhost:8080/"
        },
        "id": "daLjb4yypRpg",
        "outputId": "81d26506-b601-4952-a267-bc1941a754e3"
      },
      "execution_count": 15,
      "outputs": [
        {
          "output_type": "execute_result",
          "data": {
            "text/plain": [
              "array([[0.66666667, 0.33333333]])"
            ]
          },
          "metadata": {},
          "execution_count": 15
        }
      ]
    },
    {
      "cell_type": "code",
      "source": [
        "dist1, index1 = knn.kneighbors(X_test_std1)\n",
        "print(dist1)\n",
        "print(index1) "
      ],
      "metadata": {
        "colab": {
          "base_uri": "https://localhost:8080/"
        },
        "id": "NrwddY2hpYWi",
        "outputId": "cfa37c7e-fa90-4273-d05d-33e4e2169169"
      },
      "execution_count": 16,
      "outputs": [
        {
          "output_type": "stream",
          "name": "stdout",
          "text": [
            "[[0.68041382 1.30880211 1.30880211]]\n",
            "[[2 1 3]]\n"
          ]
        }
      ]
    },
    {
      "cell_type": "markdown",
      "source": [
        "**2번_회귀분석**"
      ],
      "metadata": {
        "id": "i9BfSvjwphc-"
      }
    },
    {
      "cell_type": "code",
      "source": [
        "X_train2 = np.array([[10,8],\n",
        "                    [20,4],\n",
        "                    [20,6],\n",
        "                    [40,4],\n",
        "                    [50,8]])\n",
        "\n",
        "Y_train2 = np.array([[100], [60], [50], [40], [100]])"
      ],
      "metadata": {
        "id": "ochAbSXcplVb"
      },
      "execution_count": 17,
      "outputs": []
    },
    {
      "cell_type": "code",
      "source": [
        "X_test2 = np.array([[30,6]])"
      ],
      "metadata": {
        "id": "wqcEM7DPpoei"
      },
      "execution_count": 18,
      "outputs": []
    },
    {
      "cell_type": "code",
      "source": [
        "plt.scatter(X_train2[:, 0], X_train2[:, 1], c=Y_train2) \n",
        "plt.scatter(X_test2[:, 0], X_test2[:, 1], c='red', marker = 'D', s=100)\n",
        "plt.xlabel('x1')\n",
        "plt.ylabel('x2')\n",
        "plt.show() "
      ],
      "metadata": {
        "colab": {
          "base_uri": "https://localhost:8080/",
          "height": 449
        },
        "id": "N33_Ztnop07x",
        "outputId": "8aab9a92-49e3-4783-c2e9-13d94855fe6e"
      },
      "execution_count": 19,
      "outputs": [
        {
          "output_type": "display_data",
          "data": {
            "text/plain": [
              "<Figure size 640x480 with 1 Axes>"
            ],
            "image/png": "[encoded data removed]"
          },
          "metadata": {}
        }
      ]
    },
    {
      "cell_type": "code",
      "source": [
        "# 입력 값\n",
        "scalerX2 = StandardScaler()\n",
        "scalerX2.fit(X_train2)\n",
        "X_train_std2 = scalerX2.transform(X_train2)\n",
        "print(X_train_std2)\n",
        "\n",
        "# 목표 값 \n",
        "scalerY2 = StandardScaler()\n",
        "scalerY2.fit(Y_train2)\n",
        "Y_train_std2 = scalerY2.transform(Y_train2)\n",
        "print(Y_train_std2)"
      ],
      "metadata": {
        "colab": {
          "base_uri": "https://localhost:8080/"
        },
        "id": "zWl_XrEDqIVP",
        "outputId": "a11df528-7704-4070-fb6d-f1db9cd37d7b"
      },
      "execution_count": 20,
      "outputs": [
        {
          "output_type": "stream",
          "name": "stdout",
          "text": [
            "[[-1.22474487  1.11803399]\n",
            " [-0.54433105 -1.11803399]\n",
            " [-0.54433105  0.        ]\n",
            " [ 0.81649658 -1.11803399]\n",
            " [ 1.4969104   1.11803399]]\n",
            "[[ 1.18585412]\n",
            " [-0.39528471]\n",
            " [-0.79056942]\n",
            " [-1.18585412]\n",
            " [ 1.18585412]]\n"
          ]
        }
      ]
    },
    {
      "cell_type": "code",
      "source": [
        "X_test_std2 = scalerX2.transform(X_test2)\n",
        "print(X_test_std2)"
      ],
      "metadata": {
        "colab": {
          "base_uri": "https://localhost:8080/"
        },
        "id": "2IvkZTEjqUbZ",
        "outputId": "ca63dfe4-6b5a-4446-ddfc-59d4dc8759d9"
      },
      "execution_count": 21,
      "outputs": [
        {
          "output_type": "stream",
          "name": "stdout",
          "text": [
            "[[0.13608276 0.        ]]\n"
          ]
        }
      ]
    },
    {
      "cell_type": "code",
      "source": [
        "knn2 = KNeighborsRegressor(n_neighbors = 3, metric='euclidean', weights=\"uniform\")\n",
        "# 학습\n",
        "knn2.fit(X_train_std2, Y_train_std2)"
      ],
      "metadata": {
        "colab": {
          "base_uri": "https://localhost:8080/",
          "height": 74
        },
        "id": "uSSmNXd9qctv",
        "outputId": "f8094b99-6f56-4088-97cc-de7fd6f7ea46"
      },
      "execution_count": 22,
      "outputs": [
        {
          "output_type": "execute_result",
          "data": {
            "text/plain": [
              "KNeighborsRegressor(metric='euclidean', n_neighbors=3)"
            ],
            "text/html": [
              "<style>#sk-container-id-2 {color: black;background-color: white;}#sk-container-id-2 pre{padding: 0;}#sk-container-id-2 div.sk-toggleable {background-color: white;}#sk-container-id-2 label.sk-toggleable__label {cursor: pointer;display: block;width: 100%;margin-bottom: 0;padding: 0.3em;box-sizing: border-box;text-align: center;}#sk-container-id-2 label.sk-toggleable__label-arrow:before {content: \"▸\";float: left;margin-right: 0.25em;color: #696969;}#sk-container-id-2 label.sk-toggleable__label-arrow:hover:before {color: black;}#sk-container-id-2 div.sk-estimator:hover label.sk-toggleable__label-arrow:before {color: black;}#sk-container-id-2 div.sk-toggleable__content {max-height: 0;max-width: 0;overflow: hidden;text-align: left;background-color: #f0f8ff;}#sk-container-id-2 div.sk-toggleable__content pre {margin: 0.2em;color: black;border-radius: 0.25em;background-color: #f0f8ff;}#sk-container-id-2 input.sk-toggleable__control:checked~div.sk-toggleable__content {max-height: 200px;max-width: 100%;overflow: auto;}#sk-container-id-2 input.sk-toggleable__control:checked~label.sk-toggleable__label-arrow:before {content: \"▾\";}#sk-container-id-2 div.sk-estimator input.sk-toggleable__control:checked~label.sk-toggleable__label {background-color: #d4ebff;}#sk-container-id-2 div.sk-label input.sk-toggleable__control:checked~label.sk-toggleable__label {background-color: #d4ebff;}#sk-container-id-2 input.sk-hidden--visually {border: 0;clip: rect(1px 1px 1px 1px);clip: rect(1px, 1px, 1px, 1px);height: 1px;margin: -1px;overflow: hidden;padding: 0;position: absolute;width: 1px;}#sk-container-id-2 div.sk-estimator {font-family: monospace;background-color: #f0f8ff;border: 1px dotted black;border-radius: 0.25em;box-sizing: border-box;margin-bottom: 0.5em;}#sk-container-id-2 div.sk-estimator:hover {background-color: #d4ebff;}#sk-container-id-2 div.sk-parallel-item::after {content: \"\";width: 100%;border-bottom: 1px solid gray;flex-grow: 1;}#sk-container-id-2 div.sk-label:hover label.sk-toggleable__label {background-color: #d4ebff;}#sk-container-id-2 div.sk-serial::before {content: \"\";position: absolute;border-left: 1px solid gray;box-sizing: border-box;top: 0;bottom: 0;left: 50%;z-index: 0;}#sk-container-id-2 div.sk-serial {display: flex;flex-direction: column;align-items: center;background-color: white;padding-right: 0.2em;padding-left: 0.2em;position: relative;}#sk-container-id-2 div.sk-item {position: relative;z-index: 1;}#sk-container-id-2 div.sk-parallel {display: flex;align-items: stretch;justify-content: center;background-color: white;position: relative;}#sk-container-id-2 div.sk-item::before, #sk-container-id-2 div.sk-parallel-item::before {content: \"\";position: absolute;border-left: 1px solid gray;box-sizing: border-box;top: 0;bottom: 0;left: 50%;z-index: -1;}#sk-container-id-2 div.sk-parallel-item {display: flex;flex-direction: column;z-index: 1;position: relative;background-color: white;}#sk-container-id-2 div.sk-parallel-item:first-child::after {align-self: flex-end;width: 50%;}#sk-container-id-2 div.sk-parallel-item:last-child::after {align-self: flex-start;width: 50%;}#sk-container-id-2 div.sk-parallel-item:only-child::after {width: 0;}#sk-container-id-2 div.sk-dashed-wrapped {border: 1px dashed gray;margin: 0 0.4em 0.5em 0.4em;box-sizing: border-box;padding-bottom: 0.4em;background-color: white;}#sk-container-id-2 div.sk-label label {font-family: monospace;font-weight: bold;display: inline-block;line-height: 1.2em;}#sk-container-id-2 div.sk-label-container {text-align: center;}#sk-container-id-2 div.sk-container {/* jupyter's `normalize.less` sets `[hidden] { display: none; }` but bootstrap.min.css set `[hidden] { display: none !important; }` so we also need the `!important` here to be able to override the default hidden behavior on the sphinx rendered scikit-learn.org. See: https://github.com/scikit-learn/scikit-learn/issues/21755 */display: inline-block !important;position: relative;}#sk-container-id-2 div.sk-text-repr-fallback {display: none;}</style><div id=\"sk-container-id-2\" class=\"sk-top-container\"><div class=\"sk-text-repr-fallback\"><pre>KNeighborsRegressor(metric=&#x27;euclidean&#x27;, n_neighbors=3)</pre><b>In a Jupyter environment, please rerun this cell to show the HTML representation or trust the notebook. <br />On GitHub, the HTML representation is unable to render, please try loading this page with nbviewer.org.</b></div><div class=\"sk-container\" hidden><div class=\"sk-item\"><div class=\"sk-estimator sk-toggleable\"><input class=\"sk-toggleable__control sk-hidden--visually\" id=\"sk-estimator-id-2\" type=\"checkbox\" checked><label for=\"sk-estimator-id-2\" class=\"sk-toggleable__label sk-toggleable__label-arrow\">KNeighborsRegressor</label><div class=\"sk-toggleable__content\"><pre>KNeighborsRegressor(metric=&#x27;euclidean&#x27;, n_neighbors=3)</pre></div></div></div></div></div>"
            ]
          },
          "metadata": {},
          "execution_count": 22
        }
      ]
    },
    {
      "cell_type": "code",
      "source": [
        "# 예측 \n",
        "Y_pred2 = knn2.predict(X_test_std2)\n",
        "print(Y_pred2)"
      ],
      "metadata": {
        "colab": {
          "base_uri": "https://localhost:8080/"
        },
        "id": "LLcRr2kfrCc6",
        "outputId": "529093d3-21e1-4473-e4c1-519170289cdb"
      },
      "execution_count": 23,
      "outputs": [
        {
          "output_type": "stream",
          "name": "stdout",
          "text": [
            "[[-0.79056942]]\n"
          ]
        }
      ]
    },
    {
      "cell_type": "code",
      "source": [
        "# 예측 값의 역변환\n",
        "Y_pred_inverse2 = scalerY2.inverse_transform(Y_pred2)\n",
        "print(Y_pred_inverse2)"
      ],
      "metadata": {
        "colab": {
          "base_uri": "https://localhost:8080/"
        },
        "id": "C19baZKkrJIf",
        "outputId": "9ddb6ee5-5211-4348-d994-49107a1ce85f"
      },
      "execution_count": 24,
      "outputs": [
        {
          "output_type": "stream",
          "name": "stdout",
          "text": [
            "[[50.]]\n"
          ]
        }
      ]
    },
    {
      "cell_type": "markdown",
      "source": [
        "**응용문제**"
      ],
      "metadata": {
        "id": "2VTASY12rXAO"
      }
    },
    {
      "cell_type": "code",
      "source": [
        "from sklearn import datasets"
      ],
      "metadata": {
        "id": "x5qC9Pw-rZhG"
      },
      "execution_count": 25,
      "outputs": []
    },
    {
      "cell_type": "code",
      "source": [
        "data = datasets.load_iris()\n",
        "data"
      ],
      "metadata": {
        "colab": {
          "base_uri": "https://localhost:8080/"
        },
        "id": "FBhqorxlrmvI",
        "outputId": "53b2f72b-d90a-4ce5-9c81-090eac8d425d"
      },
      "execution_count": 26,
      "outputs": [
        {
          "output_type": "execute_result",
          "data": {
            "text/plain": [
              "{'data': array([[5.1, 3.5, 1.4, 0.2],\n",
              "        [4.9, 3. , 1.4, 0.2],\n",
              "        [4.7, 3.2, 1.3, 0.2],\n",
              "        [4.6, 3.1, 1.5, 0.2],\n",
              "        [5. , 3.6, 1.4, 0.2],\n",
              "        [5.4, 3.9, 1.7, 0.4],\n",
              "        [4.6, 3.4, 1.4, 0.3],\n",
              "        [5. , 3.4, 1.5, 0.2],\n",
              "        [4.4, 2.9, 1.4, 0.2],\n",
              "        [4.9, 3.1, 1.5, 0.1],\n",
              "        [5.4, 3.7, 1.5, 0.2],\n",
              "        [4.8, 3.4, 1.6, 0.2],\n",
              "        [4.8, 3. , 1.4, 0.1],\n",
              "        [4.3, 3. , 1.1, 0.1],\n",
              "        [5.8, 4. , 1.2, 0.2],\n",
              "        [5.7, 4.4, 1.5, 0.4],\n",
              "        [5.4, 3.9, 1.3, 0.4],\n",
              "        [5.1, 3.5, 1.4, 0.3],\n",
              "        [5.7, 3.8, 1.7, 0.3],\n",
              "        [5.1, 3.8, 1.5, 0.3],\n",
              "        [5.4, 3.4, 1.7, 0.2],\n",
              "        [5.1, 3.7, 1.5, 0.4],\n",
              "        [4.6, 3.6, 1. , 0.2],\n",
              "        [5.1, 3.3, 1.7, 0.5],\n",
              "        [4.8, 3.4, 1.9, 0.2],\n",
              "        [5. , 3. , 1.6, 0.2],\n",
              "        [5. , 3.4, 1.6, 0.4],\n",
              "        [5.2, 3.5, 1.5, 0.2],\n",
              "        [5.2, 3.4, 1.4, 0.2],\n",
              "        [4.7, 3.2, 1.6, 0.2],\n",
              "        [4.8, 3.1, 1.6, 0.2],\n",
              "        [5.4, 3.4, 1.5, 0.4],\n",
              "        [5.2, 4.1, 1.5, 0.1],\n",
              "        [5.5, 4.2, 1.4, 0.2],\n",
              "        [4.9, 3.1, 1.5, 0.2],\n",
              "        [5. , 3.2, 1.2, 0.2],\n",
              "        [5.5, 3.5, 1.3, 0.2],\n",
              "        [4.9, 3.6, 1.4, 0.1],\n",
              "        [4.4, 3. , 1.3, 0.2],\n",
              "        [5.1, 3.4, 1.5, 0.2],\n",
              "        [5. , 3.5, 1.3, 0.3],\n",
              "        [4.5, 2.3, 1.3, 0.3],\n",
              "        [4.4, 3.2, 1.3, 0.2],\n",
              "        [5. , 3.5, 1.6, 0.6],\n",
              "        [5.1, 3.8, 1.9, 0.4],\n",
              "        [4.8, 3. , 1.4, 0.3],\n",
              "        [5.1, 3.8, 1.6, 0.2],\n",
              "        [4.6, 3.2, 1.4, 0.2],\n",
              "        [5.3, 3.7, 1.5, 0.2],\n",
              "        [5. , 3.3, 1.4, 0.2],\n",
              "        [7. , 3.2, 4.7, 1.4],\n",
              "        [6.4, 3.2, 4.5, 1.5],\n",
              "        [6.9, 3.1, 4.9, 1.5],\n",
              "        [5.5, 2.3, 4. , 1.3],\n",
              "        [6.5, 2.8, 4.6, 1.5],\n",
              "        [5.7, 2.8, 4.5, 1.3],\n",
              "        [6.3, 3.3, 4.7, 1.6],\n",
              "        [4.9, 2.4, 3.3, 1. ],\n",
              "        [6.6, 2.9, 4.6, 1.3],\n",
              "        [5.2, 2.7, 3.9, 1.4],\n",
              "        [5. , 2. , 3.5, 1. ],\n",
              "        [5.9, 3. , 4.2, 1.5],\n",
              "        [6. , 2.2, 4. , 1. ],\n",
              "        [6.1, 2.9, 4.7, 1.4],\n",
              "        [5.6, 2.9, 3.6, 1.3],\n",
              "        [6.7, 3.1, 4.4, 1.4],\n",
              "        [5.6, 3. , 4.5, 1.5],\n",
              "        [5.8, 2.7, 4.1, 1. ],\n",
              "        [6.2, 2.2, 4.5, 1.5],\n",
              "        [5.6, 2.5, 3.9, 1.1],\n",
              "        [5.9, 3.2, 4.8, 1.8],\n",
              "        [6.1, 2.8, 4. , 1.3],\n",
              "        [6.3, 2.5, 4.9, 1.5],\n",
              "        [6.1, 2.8, 4.7, 1.2],\n",
              "        [6.4, 2.9, 4.3, 1.3],\n",
              "        [6.6, 3. , 4.4, 1.4],\n",
              "        [6.8, 2.8, 4.8, 1.4],\n",
              "        [6.7, 3. , 5. , 1.7],\n",
              "        [6. , 2.9, 4.5, 1.5],\n",
              "        [5.7, 2.6, 3.5, 1. ],\n",
              "        [5.5, 2.4, 3.8, 1.1],\n",
              "        [5.5, 2.4, 3.7, 1. ],\n",
              "        [5.8, 2.7, 3.9, 1.2],\n",
              "        [6. , 2.7, 5.1, 1.6],\n",
              "        [5.4, 3. , 4.5, 1.5],\n",
              "        [6. , 3.4, 4.5, 1.6],\n",
              "        [6.7, 3.1, 4.7, 1.5],\n",
              "        [6.3, 2.3, 4.4, 1.3],\n",
              "        [5.6, 3. , 4.1, 1.3],\n",
              "        [5.5, 2.5, 4. , 1.3],\n",
              "        [5.5, 2.6, 4.4, 1.2],\n",
              "        [6.1, 3. , 4.6, 1.4],\n",
              "        [5.8, 2.6, 4. , 1.2],\n",
              "        [5. , 2.3, 3.3, 1. ],\n",
              "        [5.6, 2.7, 4.2, 1.3],\n",
              "        [5.7, 3. , 4.2, 1.2],\n",
              "        [5.7, 2.9, 4.2, 1.3],\n",
              "        [6.2, 2.9, 4.3, 1.3],\n",
              "        [5.1, 2.5, 3. , 1.1],\n",
              "        [5.7, 2.8, 4.1, 1.3],\n",
              "        [6.3, 3.3, 6. , 2.5],\n",
              "        [5.8, 2.7, 5.1, 1.9],\n",
              "        [7.1, 3. , 5.9, 2.1],\n",
              "        [6.3, 2.9, 5.6, 1.8],\n",
              "        [6.5, 3. , 5.8, 2.2],\n",
              "        [7.6, 3. , 6.6, 2.1],\n",
              "        [4.9, 2.5, 4.5, 1.7],\n",
              "        [7.3, 2.9, 6.3, 1.8],\n",
              "        [6.7, 2.5, 5.8, 1.8],\n",
              "        [7.2, 3.6, 6.1, 2.5],\n",
              "        [6.5, 3.2, 5.1, 2. ],\n",
              "        [6.4, 2.7, 5.3, 1.9],\n",
              "        [6.8, 3. , 5.5, 2.1],\n",
              "        [5.7, 2.5, 5. , 2. ],\n",
              "        [5.8, 2.8, 5.1, 2.4],\n",
              "        [6.4, 3.2, 5.3, 2.3],\n",
              "        [6.5, 3. , 5.5, 1.8],\n",
              "        [7.7, 3.8, 6.7, 2.2],\n",
              "        [7.7, 2.6, 6.9, 2.3],\n",
              "        [6. , 2.2, 5. , 1.5],\n",
              "        [6.9, 3.2, 5.7, 2.3],\n",
              "        [5.6, 2.8, 4.9, 2. ],\n",
              "        [7.7, 2.8, 6.7, 2. ],\n",
              "        [6.3, 2.7, 4.9, 1.8],\n",
              "        [6.7, 3.3, 5.7, 2.1],\n",
              "        [7.2, 3.2, 6. , 1.8],\n",
              "        [6.2, 2.8, 4.8, 1.8],\n",
              "        [6.1, 3. , 4.9, 1.8],\n",
              "        [6.4, 2.8, 5.6, 2.1],\n",
              "        [7.2, 3. , 5.8, 1.6],\n",
              "        [7.4, 2.8, 6.1, 1.9],\n",
              "        [7.9, 3.8, 6.4, 2. ],\n",
              "        [6.4, 2.8, 5.6, 2.2],\n",
              "        [6.3, 2.8, 5.1, 1.5],\n",
              "        [6.1, 2.6, 5.6, 1.4],\n",
              "        [7.7, 3. , 6.1, 2.3],\n",
              "        [6.3, 3.4, 5.6, 2.4],\n",
              "        [6.4, 3.1, 5.5, 1.8],\n",
              "        [6. , 3. , 4.8, 1.8],\n",
              "        [6.9, 3.1, 5.4, 2.1],\n",
              "        [6.7, 3.1, 5.6, 2.4],\n",
              "        [6.9, 3.1, 5.1, 2.3],\n",
              "        [5.8, 2.7, 5.1, 1.9],\n",
              "        [6.8, 3.2, 5.9, 2.3],\n",
              "        [6.7, 3.3, 5.7, 2.5],\n",
              "        [6.7, 3. , 5.2, 2.3],\n",
              "        [6.3, 2.5, 5. , 1.9],\n",
              "        [6.5, 3. , 5.2, 2. ],\n",
              "        [6.2, 3.4, 5.4, 2.3],\n",
              "        [5.9, 3. , 5.1, 1.8]]),\n",
              " 'target': array([0, 0, 0, 0, 0, 0, 0, 0, 0, 0, 0, 0, 0, 0, 0, 0, 0, 0, 0, 0, 0, 0,\n",
              "        0, 0, 0, 0, 0, 0, 0, 0, 0, 0, 0, 0, 0, 0, 0, 0, 0, 0, 0, 0, 0, 0,\n",
              "        0, 0, 0, 0, 0, 0, 1, 1, 1, 1, 1, 1, 1, 1, 1, 1, 1, 1, 1, 1, 1, 1,\n",
              "        1, 1, 1, 1, 1, 1, 1, 1, 1, 1, 1, 1, 1, 1, 1, 1, 1, 1, 1, 1, 1, 1,\n",
              "        1, 1, 1, 1, 1, 1, 1, 1, 1, 1, 1, 1, 2, 2, 2, 2, 2, 2, 2, 2, 2, 2,\n",
              "        2, 2, 2, 2, 2, 2, 2, 2, 2, 2, 2, 2, 2, 2, 2, 2, 2, 2, 2, 2, 2, 2,\n",
              "        2, 2, 2, 2, 2, 2, 2, 2, 2, 2, 2, 2, 2, 2, 2, 2, 2, 2]),\n",
              " 'frame': None,\n",
              " 'target_names': array(['setosa', 'versicolor', 'virginica'], dtype='<U10'),\n",
              " 'DESCR': '.. _iris_dataset:\\n\\nIris plants dataset\\n--------------------\\n\\n**Data Set Characteristics:**\\n\\n    :Number of Instances: 150 (50 in each of three classes)\\n    :Number of Attributes: 4 numeric, predictive attributes and the class\\n    :Attribute Information:\\n        - sepal length in cm\\n        - sepal width in cm\\n        - petal length in cm\\n        - petal width in cm\\n        - class:\\n                - Iris-Setosa\\n                - Iris-Versicolour\\n                - Iris-Virginica\\n                \\n    :Summary Statistics:\\n\\n    ============== ==== ==== ======= ===== ====================\\n                    Min  Max   Mean    SD   Class Correlation\\n    ============== ==== ==== ======= ===== ====================\\n    sepal length:   4.3  7.9   5.84   0.83    0.7826\\n    sepal width:    2.0  4.4   3.05   0.43   -0.4194\\n    petal length:   1.0  6.9   3.76   1.76    0.9490  (high!)\\n    petal width:    0.1  2.5   1.20   0.76    0.9565  (high!)\\n    ============== ==== ==== ======= ===== ====================\\n\\n    :Missing Attribute Values: None\\n    :Class Distribution: 33.3% for each of 3 classes.\\n    :Creator: R.A. Fisher\\n    :Donor: Michael Marshall (MARSHALL%PLU@io.arc.nasa.gov)\\n    :Date: July, 1988\\n\\nThe famous Iris database, first used by Sir R.A. Fisher. The dataset is taken\\nfrom Fisher\\'s paper. Note that it\\'s the same as in R, but not as in the UCI\\nMachine Learning Repository, which has two wrong data points.\\n\\nThis is perhaps the best known database to be found in the\\npattern recognition literature.  Fisher\\'s paper is a classic in the field and\\nis referenced frequently to this day.  (See Duda & Hart, for example.)  The\\ndata set contains 3 classes of 50 instances each, where each class refers to a\\ntype of iris plant.  One class is linearly separable from the other 2; the\\nlatter are NOT linearly separable from each other.\\n\\n.. topic:: References\\n\\n   - Fisher, R.A. \"The use of multiple measurements in taxonomic problems\"\\n     Annual Eugenics, 7, Part II, 179-188 (1936); also in \"Contributions to\\n     Mathematical Statistics\" (John Wiley, NY, 1950).\\n   - Duda, R.O., & Hart, P.E. (1973) Pattern Classification and Scene Analysis.\\n     (Q327.D83) John Wiley & Sons.  ISBN 0-471-22361-1.  See page 218.\\n   - Dasarathy, B.V. (1980) \"Nosing Around the Neighborhood: A New System\\n     Structure and Classification Rule for Recognition in Partially Exposed\\n     Environments\".  IEEE Transactions on Pattern Analysis and Machine\\n     Intelligence, Vol. PAMI-2, No. 1, 67-71.\\n   - Gates, G.W. (1972) \"The Reduced Nearest Neighbor Rule\".  IEEE Transactions\\n     on Information Theory, May 1972, 431-433.\\n   - See also: 1988 MLC Proceedings, 54-64.  Cheeseman et al\"s AUTOCLASS II\\n     conceptual clustering system finds 3 classes in the data.\\n   - Many, many more ...',\n",
              " 'feature_names': ['sepal length (cm)',\n",
              "  'sepal width (cm)',\n",
              "  'petal length (cm)',\n",
              "  'petal width (cm)'],\n",
              " 'filename': 'iris.csv',\n",
              " 'data_module': 'sklearn.datasets.data'}"
            ]
          },
          "metadata": {},
          "execution_count": 26
        }
      ]
    },
    {
      "cell_type": "code",
      "source": [
        "X_train,X_test,y_train,y_test=train_test_split(data.data, data.target, test_size=0.3, \n",
        "                                               random_state=1234)  # 자동으로 랜덤믹스해주는 코드\n",
        "print(X_train.shape)\n",
        "print(X_test.shape)\n",
        "print(y_train.shape)\n",
        "print(y_test.shape)"
      ],
      "metadata": {
        "colab": {
          "base_uri": "https://localhost:8080/"
        },
        "id": "KOMGJ9Ovrr6i",
        "outputId": "65306be4-0b0e-4a95-bd08-e0a70935f19b"
      },
      "execution_count": 27,
      "outputs": [
        {
          "output_type": "stream",
          "name": "stdout",
          "text": [
            "(105, 4)\n",
            "(45, 4)\n",
            "(105,)\n",
            "(45,)\n"
          ]
        }
      ]
    },
    {
      "cell_type": "code",
      "source": [
        "# 피처 스케일링: 학습 데이터 \n",
        "scalerX = StandardScaler()\n",
        "scalerX.fit(X_train)\n",
        "X_train_std = scalerX.transform(X_train)\n",
        "print(X_train_std)"
      ],
      "metadata": {
        "colab": {
          "base_uri": "https://localhost:8080/"
        },
        "id": "CvKlOlgQswNX",
        "outputId": "05c5a559-cc5f-4897-8f80-b1ccaa9c4013"
      },
      "execution_count": 28,
      "outputs": [
        {
          "output_type": "stream",
          "name": "stdout",
          "text": [
            "[[-1.19191557  0.09824575 -1.32540018 -1.48238937]\n",
            " [-0.07560218 -0.57452407  0.73548533  1.52346313]\n",
            " [ 1.04071121 -0.12601086  0.79273215  1.39277389]\n",
            " [ 2.28105942 -0.12601086  1.30795353  1.39277389]\n",
            " [ 1.04071121  0.09824575  1.02171943  1.52346313]\n",
            " [-1.19191557 -0.12601086 -1.382647   -1.35170013]\n",
            " [ 0.79264157 -0.12601086  0.79273215  1.00070618]\n",
            " [ 2.1570246  -0.12601086  1.59418763  1.13139541]\n",
            " [ 0.42053711 -0.35026746  0.27751077  0.0858815 ]\n",
            " [-1.19191557 -1.47155051 -0.29495742 -0.30618622]\n",
            " [-0.32367182 -0.35026746 -0.12321696  0.0858815 ]\n",
            " [-0.32367182 -0.12601086  0.39200441  0.34725998]\n",
            " [ 1.28878086  0.09824575  0.62099169  0.34725998]\n",
            " [ 0.91667639 -0.35026746  0.44925123  0.0858815 ]\n",
            " [-0.94384592  0.99527219 -1.382647   -1.22101089]\n",
            " [-0.94384592  0.77101558 -1.32540018 -1.35170013]\n",
            " [ 1.90895496 -0.57452407  1.30795353  0.87001694]\n",
            " [-0.199637   -1.2472939   0.67823851  1.00070618]\n",
            " [ 0.79264157  0.32250236  0.73548533  1.00070618]\n",
            " [-0.94384592  1.4437854  -1.32540018 -1.09032165]\n",
            " [-0.44770664  2.56506845 -1.382647   -1.35170013]\n",
            " [-0.94384592  0.99527219 -1.382647   -1.35170013]\n",
            " [ 0.54457193 -1.2472939   0.67823851  0.87001694]\n",
            " [ 0.17246747 -1.92006373  0.10577031 -0.30618622]\n",
            " [ 0.29650229 -1.02303729  1.02171943  0.21657074]\n",
            " [ 1.04071121  0.54675897  1.07896625  1.65415237]\n",
            " [-0.199637   -0.57452407  0.39200441  0.0858815 ]\n",
            " [-1.06788075  1.2195288  -1.382647   -1.35170013]\n",
            " [ 0.66860675 -0.79878068  0.84997897  0.87001694]\n",
            " [-0.57174146  1.4437854  -1.32540018 -1.35170013]\n",
            " [ 2.52912907  1.66804201  1.47969399  1.00070618]\n",
            " [-0.199637    3.01358167 -1.32540018 -1.09032165]\n",
            " [ 0.17246747 -0.35026746  0.39200441  0.34725998]\n",
            " [-0.32367182 -0.12601086  0.16301713  0.0858815 ]\n",
            " [-0.57174146  1.89229862 -1.21090654 -1.09032165]\n",
            " [-0.07560218 -0.79878068  0.16301713 -0.30618622]\n",
            " [-1.06788075  0.77101558 -1.32540018 -1.35170013]\n",
            " [ 0.42053711  0.77101558  0.90722579  1.39277389]\n",
            " [ 0.66860675 -0.57452407  1.02171943  1.26208465]\n",
            " [ 0.17246747 -0.12601086  0.56374487  0.7393277 ]\n",
            " [ 0.17246747  0.77101558  0.39200441  0.47794922]\n",
            " [-0.199637    1.66804201 -1.21090654 -1.22101089]\n",
            " [-1.06788075  0.54675897 -1.382647   -1.35170013]\n",
            " [ 0.04843264 -0.12601086  0.73548533  0.7393277 ]\n",
            " [ 0.17246747 -0.79878068  0.73548533  0.47794922]\n",
            " [-0.44770664 -1.02303729  0.33475759 -0.04480774]\n",
            " [-0.94384592  1.66804201 -1.0964129  -1.09032165]\n",
            " [ 1.04071121  0.09824575  0.50649805  0.34725998]\n",
            " [ 0.79264157 -0.12601086  1.13621307  1.26208465]\n",
            " [ 0.04843264  0.32250236  0.56374487  0.7393277 ]\n",
            " [ 0.54457193  0.54675897  0.50649805  0.47794922]\n",
            " [ 0.54457193 -1.2472939   0.62099169  0.34725998]\n",
            " [-1.68805485 -1.69580712 -1.43989382 -1.22101089]\n",
            " [-0.57174146  1.89229862 -1.43989382 -1.09032165]\n",
            " [-1.31595039 -0.12601086 -1.382647   -1.22101089]\n",
            " [-0.57174146 -0.12601086  0.39200441  0.34725998]\n",
            " [-0.44770664 -1.2472939   0.10577031  0.0858815 ]\n",
            " [-0.57174146  0.77101558 -1.32540018 -1.09032165]\n",
            " [-0.07560218 -0.79878068  0.73548533  0.87001694]\n",
            " [-0.199637   -0.12601086  0.22026395 -0.04480774]\n",
            " [ 0.66860675  0.09824575  0.96447261  0.7393277 ]\n",
            " [-0.07560218 -0.79878068  0.73548533  0.87001694]\n",
            " [-0.199637   -0.35026746  0.22026395  0.0858815 ]\n",
            " [-1.93612449 -0.12601086 -1.55438746 -1.48238937]\n",
            " [ 0.54457193 -1.69580712  0.33475759  0.0858815 ]\n",
            " [ 0.17246747 -1.92006373  0.67823851  0.34725998]\n",
            " [-0.8198111   0.77101558 -1.382647   -1.35170013]\n",
            " [-0.94384592  1.66804201 -1.26815336 -1.35170013]\n",
            " [ 1.28878086  0.09824575  0.90722579  1.13139541]\n",
            " [-1.19191557 -1.2472939   0.39200441  0.60863846]\n",
            " [-1.06788075 -2.36857694 -0.18046378 -0.30618622]\n",
            " [ 0.29650229 -0.57452407  0.10577031  0.0858815 ]\n",
            " [-0.32367182 -0.57452407  0.62099169  1.00070618]\n",
            " [-0.07560218  2.11655523 -1.49714064 -1.35170013]\n",
            " [-0.44770664 -1.47155051 -0.06597014 -0.30618622]\n",
            " [ 1.78492014 -0.35026746  1.42244717  0.7393277 ]\n",
            " [ 0.66860675  0.32250236  0.84997897  1.39277389]\n",
            " [ 1.66088532 -0.12601086  1.13621307  0.47794922]\n",
            " [ 1.04071121  0.09824575  0.33475759  0.21657074]\n",
            " [-1.31595039 -0.12601086 -1.382647   -1.48238937]\n",
            " [-0.94384592  1.66804201 -1.32540018 -1.22101089]\n",
            " [-1.43998521  0.32250236 -1.43989382 -1.35170013]\n",
            " [-1.56402003  0.09824575 -1.32540018 -1.35170013]\n",
            " [ 0.54457193  0.77101558  1.02171943  1.52346313]\n",
            " [ 0.91667639 -0.12601086  0.33475759  0.21657074]\n",
            " [ 0.66860675 -0.57452407  1.02171943  1.13139541]\n",
            " [-1.19191557  0.09824575 -1.32540018 -1.35170013]\n",
            " [-1.19191557  1.2195288  -1.382647   -1.48238937]\n",
            " [ 1.16474603 -0.57452407  0.56374487  0.21657074]\n",
            " [ 1.41281568  0.32250236  0.50649805  0.21657074]\n",
            " [ 0.29650229 -0.12601086  0.62099169  0.7393277 ]\n",
            " [-0.44770664 -1.47155051 -0.00872332 -0.17549698]\n",
            " [-0.32367182 -1.2472939   0.04852349 -0.17549698]\n",
            " [ 1.16474603 -0.12601086  0.96447261  1.13139541]\n",
            " [ 1.28878086  0.32250236  1.07896625  1.39277389]\n",
            " [ 2.28105942 -1.02303729  1.76592809  1.39277389]\n",
            " [-1.06788075  0.77101558 -1.26815336 -1.09032165]\n",
            " [ 1.04071121  0.54675897  1.07896625  1.13139541]\n",
            " [-1.31595039  0.09824575 -1.26815336 -1.35170013]\n",
            " [-0.94384592  0.54675897 -1.21090654 -0.95963241]\n",
            " [ 1.16474603  0.32250236  1.19345989  1.39277389]\n",
            " [ 0.79264157 -0.12601086  0.96447261  0.7393277 ]\n",
            " [-0.44770664 -1.69580712  0.10577031  0.0858815 ]\n",
            " [-1.81208967 -0.12601086 -1.43989382 -1.35170013]\n",
            " [-1.56402003  0.32250236 -1.382647   -1.35170013]]\n"
          ]
        }
      ]
    },
    {
      "cell_type": "code",
      "source": [
        "# 피처 스케일링: 테스트 데이터\n",
        "X_test_std = scalerX.transform(X_test)\n",
        "print(X_test_std)"
      ],
      "metadata": {
        "colab": {
          "base_uri": "https://localhost:8080/"
        },
        "id": "GzMKwGkYsxO1",
        "outputId": "4b1bb0d1-f512-445d-82a1-9232feb1d854"
      },
      "execution_count": 29,
      "outputs": [
        {
          "output_type": "stream",
          "name": "stdout",
          "text": [
            "[[ 0.29650229 -0.12601086  0.44925123  0.21657074]\n",
            " [ 0.29650229 -0.35026746  0.50649805  0.21657074]\n",
            " [ 0.54457193 -0.35026746  1.02171943  0.7393277 ]\n",
            " [-1.56402003  0.77101558 -1.382647   -1.22101089]\n",
            " [-0.8198111  -0.79878068  0.04852349  0.21657074]\n",
            " [-1.43998521  0.32250236 -1.26815336 -1.35170013]\n",
            " [-0.8198111   0.99527219 -1.32540018 -1.35170013]\n",
            " [-1.06788075  0.32250236 -1.49714064 -1.35170013]\n",
            " [-0.199637   -0.57452407  0.16301713  0.0858815 ]\n",
            " [ 2.28105942 -0.57452407  1.65143445  1.00070618]\n",
            " [-0.07560218 -0.79878068  0.04852349 -0.04480774]\n",
            " [-1.81208967  0.32250236 -1.43989382 -1.35170013]\n",
            " [ 2.28105942  1.66804201  1.65143445  1.26208465]\n",
            " [ 0.04843264 -0.12601086  0.22026395  0.34725998]\n",
            " [-1.06788075  0.99527219 -1.26815336 -0.82894318]\n",
            " [-0.199637   -1.02303729 -0.18046378 -0.30618622]\n",
            " [ 0.54457193  0.54675897  1.25070671  1.65415237]\n",
            " [-1.06788075 -0.12601086 -1.26815336 -1.35170013]\n",
            " [ 1.04071121 -1.2472939   1.13621307  0.7393277 ]\n",
            " [-0.32367182 -0.79878068  0.22026395  0.0858815 ]\n",
            " [ 0.66860675 -0.35026746  0.27751077  0.0858815 ]\n",
            " [ 0.79264157 -0.57452407  0.44925123  0.34725998]\n",
            " [ 0.66860675  0.32250236  0.39200441  0.34725998]\n",
            " [ 0.29650229 -0.57452407  0.50649805 -0.04480774]\n",
            " [ 1.66088532  1.2195288   1.30795353  1.65415237]\n",
            " [-0.69577628  1.4437854  -1.32540018 -1.35170013]\n",
            " [ 0.54457193 -0.79878068  0.62099169  0.7393277 ]\n",
            " [-0.07560218 -1.02303729  0.10577031 -0.04480774]\n",
            " [ 1.5368505  -0.12601086  1.19345989  1.13139541]\n",
            " [-1.31595039  0.77101558 -1.26815336 -1.35170013]\n",
            " [-0.94384592 -1.2472939  -0.46669788 -0.17549698]\n",
            " [ 0.42053711 -0.57452407  0.56374487  0.7393277 ]\n",
            " [-1.06788075  0.99527219 -1.43989382 -1.22101089]\n",
            " [ 0.54457193 -0.57452407  0.73548533  0.34725998]\n",
            " [ 1.04071121 -0.12601086  0.67823851  0.60863846]\n",
            " [-1.31595039  0.77101558 -1.0964129  -1.35170013]\n",
            " [-1.81208967 -0.35026746 -1.382647   -1.35170013]\n",
            " [-0.57174146  0.77101558 -1.21090654 -1.35170013]\n",
            " [-1.56402003  1.2195288  -1.61163428 -1.35170013]\n",
            " [-1.06788075 -1.69580712 -0.29495742 -0.30618622]\n",
            " [-0.44770664  0.99527219 -1.43989382 -1.35170013]\n",
            " [ 0.42053711 -1.92006373  0.39200441  0.34725998]\n",
            " [-0.8198111   2.34081184 -1.32540018 -1.48238937]\n",
            " [ 1.28878086  0.09824575  0.73548533  1.39277389]\n",
            " [ 1.66088532  0.32250236  1.25070671  0.7393277 ]]\n"
          ]
        }
      ]
    },
    {
      "cell_type": "code",
      "source": [
        "# 학습용 데이터의 분류 정확도\n",
        "train_accuracy = []\n",
        "# 테스트 데이터의 분류 정확도\n",
        "test_accuracy = []\n",
        "\n",
        "neighbors = range(1, 11)\n",
        "for k in neighbors:\n",
        "    # 모형화\n",
        "    knn = KNeighborsClassifier(n_neighbors=k)\n",
        "    # 학습 \n",
        "    knn.fit(X_train_std, y_train)\n",
        "    # 학습 데이터의 분류 정확도\n",
        "    score1 = knn.score(X_train_std, y_train)\n",
        "    train_accuracy.append(score1)\n",
        "    # 테스트 데이터의 분류 정확도\n",
        "    score2 = knn.score(X_test_std, y_test)\n",
        "    test_accuracy.append(score2)\n",
        "\n",
        "# K의 크기에 따른 분류 정확도 변화\n",
        "plt.plot(neighbors, train_accuracy, label=\"train\")\n",
        "plt.plot(neighbors, test_accuracy,  label=\"test\")\n",
        "plt.xlabel(\"K\")\n",
        "plt.ylabel(\"Accuracy\")\n",
        "plt.legend()\n",
        "plt.show()"
      ],
      "metadata": {
        "colab": {
          "base_uri": "https://localhost:8080/",
          "height": 449
        },
        "id": "NwtD47keszpg",
        "outputId": "a704643e-2c8d-43c1-934c-daa3adae331f"
      },
      "execution_count": 30,
      "outputs": [
        {
          "output_type": "display_data",
          "data": {
            "text/plain": [
              "<Figure size 640x480 with 1 Axes>"
            ],
            "image/png": "[encoded data removed]"
          },
          "metadata": {}
        }
      ]
    },
    {
      "cell_type": "code",
      "source": [
        "#정확도\n",
        "test_accuracy"
      ],
      "metadata": {
        "colab": {
          "base_uri": "https://localhost:8080/"
        },
        "id": "0uSJf-6mtjO8",
        "outputId": "087ff677-88c3-40df-a0b5-f46512a470f4"
      },
      "execution_count": 31,
      "outputs": [
        {
          "output_type": "execute_result",
          "data": {
            "text/plain": [
              "[0.9555555555555556,\n",
              " 0.9333333333333333,\n",
              " 0.9777777777777777,\n",
              " 0.9555555555555556,\n",
              " 0.9777777777777777,\n",
              " 0.9777777777777777,\n",
              " 0.9777777777777777,\n",
              " 0.9777777777777777,\n",
              " 0.9777777777777777,\n",
              " 0.9777777777777777]"
            ]
          },
          "metadata": {},
          "execution_count": 31
        }
      ]
    },
    {
      "cell_type": "code",
      "source": [
        "# 모형화 \n",
        "K = 3\n",
        "knn = KNeighborsClassifier(n_neighbors=K)\n",
        "# 학습 \n",
        "knn.fit(X_train_std, y_train)"
      ],
      "metadata": {
        "colab": {
          "base_uri": "https://localhost:8080/",
          "height": 74
        },
        "id": "r7YMRoq-tq9s",
        "outputId": "0157c3b2-6014-4b3b-a063-59a31459c9d3"
      },
      "execution_count": 32,
      "outputs": [
        {
          "output_type": "execute_result",
          "data": {
            "text/plain": [
              "KNeighborsClassifier(n_neighbors=3)"
            ],
            "text/html": [
              "<style>#sk-container-id-3 {color: black;background-color: white;}#sk-container-id-3 pre{padding: 0;}#sk-container-id-3 div.sk-toggleable {background-color: white;}#sk-container-id-3 label.sk-toggleable__label {cursor: pointer;display: block;width: 100%;margin-bottom: 0;padding: 0.3em;box-sizing: border-box;text-align: center;}#sk-container-id-3 label.sk-toggleable__label-arrow:before {content: \"▸\";float: left;margin-right: 0.25em;color: #696969;}#sk-container-id-3 label.sk-toggleable__label-arrow:hover:before {color: black;}#sk-container-id-3 div.sk-estimator:hover label.sk-toggleable__label-arrow:before {color: black;}#sk-container-id-3 div.sk-toggleable__content {max-height: 0;max-width: 0;overflow: hidden;text-align: left;background-color: #f0f8ff;}#sk-container-id-3 div.sk-toggleable__content pre {margin: 0.2em;color: black;border-radius: 0.25em;background-color: #f0f8ff;}#sk-container-id-3 input.sk-toggleable__control:checked~div.sk-toggleable__content {max-height: 200px;max-width: 100%;overflow: auto;}#sk-container-id-3 input.sk-toggleable__control:checked~label.sk-toggleable__label-arrow:before {content: \"▾\";}#sk-container-id-3 div.sk-estimator input.sk-toggleable__control:checked~label.sk-toggleable__label {background-color: #d4ebff;}#sk-container-id-3 div.sk-label input.sk-toggleable__control:checked~label.sk-toggleable__label {background-color: #d4ebff;}#sk-container-id-3 input.sk-hidden--visually {border: 0;clip: rect(1px 1px 1px 1px);clip: rect(1px, 1px, 1px, 1px);height: 1px;margin: -1px;overflow: hidden;padding: 0;position: absolute;width: 1px;}#sk-container-id-3 div.sk-estimator {font-family: monospace;background-color: #f0f8ff;border: 1px dotted black;border-radius: 0.25em;box-sizing: border-box;margin-bottom: 0.5em;}#sk-container-id-3 div.sk-estimator:hover {background-color: #d4ebff;}#sk-container-id-3 div.sk-parallel-item::after {content: \"\";width: 100%;border-bottom: 1px solid gray;flex-grow: 1;}#sk-container-id-3 div.sk-label:hover label.sk-toggleable__label {background-color: #d4ebff;}#sk-container-id-3 div.sk-serial::before {content: \"\";position: absolute;border-left: 1px solid gray;box-sizing: border-box;top: 0;bottom: 0;left: 50%;z-index: 0;}#sk-container-id-3 div.sk-serial {display: flex;flex-direction: column;align-items: center;background-color: white;padding-right: 0.2em;padding-left: 0.2em;position: relative;}#sk-container-id-3 div.sk-item {position: relative;z-index: 1;}#sk-container-id-3 div.sk-parallel {display: flex;align-items: stretch;justify-content: center;background-color: white;position: relative;}#sk-container-id-3 div.sk-item::before, #sk-container-id-3 div.sk-parallel-item::before {content: \"\";position: absolute;border-left: 1px solid gray;box-sizing: border-box;top: 0;bottom: 0;left: 50%;z-index: -1;}#sk-container-id-3 div.sk-parallel-item {display: flex;flex-direction: column;z-index: 1;position: relative;background-color: white;}#sk-container-id-3 div.sk-parallel-item:first-child::after {align-self: flex-end;width: 50%;}#sk-container-id-3 div.sk-parallel-item:last-child::after {align-self: flex-start;width: 50%;}#sk-container-id-3 div.sk-parallel-item:only-child::after {width: 0;}#sk-container-id-3 div.sk-dashed-wrapped {border: 1px dashed gray;margin: 0 0.4em 0.5em 0.4em;box-sizing: border-box;padding-bottom: 0.4em;background-color: white;}#sk-container-id-3 div.sk-label label {font-family: monospace;font-weight: bold;display: inline-block;line-height: 1.2em;}#sk-container-id-3 div.sk-label-container {text-align: center;}#sk-container-id-3 div.sk-container {/* jupyter's `normalize.less` sets `[hidden] { display: none; }` but bootstrap.min.css set `[hidden] { display: none !important; }` so we also need the `!important` here to be able to override the default hidden behavior on the sphinx rendered scikit-learn.org. See: https://github.com/scikit-learn/scikit-learn/issues/21755 */display: inline-block !important;position: relative;}#sk-container-id-3 div.sk-text-repr-fallback {display: none;}</style><div id=\"sk-container-id-3\" class=\"sk-top-container\"><div class=\"sk-text-repr-fallback\"><pre>KNeighborsClassifier(n_neighbors=3)</pre><b>In a Jupyter environment, please rerun this cell to show the HTML representation or trust the notebook. <br />On GitHub, the HTML representation is unable to render, please try loading this page with nbviewer.org.</b></div><div class=\"sk-container\" hidden><div class=\"sk-item\"><div class=\"sk-estimator sk-toggleable\"><input class=\"sk-toggleable__control sk-hidden--visually\" id=\"sk-estimator-id-3\" type=\"checkbox\" checked><label for=\"sk-estimator-id-3\" class=\"sk-toggleable__label sk-toggleable__label-arrow\">KNeighborsClassifier</label><div class=\"sk-toggleable__content\"><pre>KNeighborsClassifier(n_neighbors=3)</pre></div></div></div></div></div>"
            ]
          },
          "metadata": {},
          "execution_count": 32
        }
      ]
    },
    {
      "cell_type": "code",
      "source": [
        "y_pred = knn.predict(X_test_std)\n",
        "print(y_pred)"
      ],
      "metadata": {
        "colab": {
          "base_uri": "https://localhost:8080/"
        },
        "id": "Ly-3M66stzPz",
        "outputId": "f2379559-204d-4c8c-97e1-1daf13e083fa"
      },
      "execution_count": 33,
      "outputs": [
        {
          "output_type": "stream",
          "name": "stdout",
          "text": [
            "[1 1 2 0 1 0 0 0 1 2 1 0 2 1 0 1 2 0 2 1 1 1 1 1 2 0 2 1 2 0 1 2 0 1 1 0 0\n",
            " 0 0 1 0 1 0 2 2]\n"
          ]
        }
      ]
    },
    {
      "cell_type": "code",
      "source": [
        "cf = confusion_matrix(y_test, y_pred)\n",
        "print(cf)"
      ],
      "metadata": {
        "colab": {
          "base_uri": "https://localhost:8080/"
        },
        "id": "cbr-48Qtt2OO",
        "outputId": "e6bf2375-f233-4d73-84a3-c53341b4351e"
      },
      "execution_count": 34,
      "outputs": [
        {
          "output_type": "stream",
          "name": "stdout",
          "text": [
            "[[16  0  0]\n",
            " [ 0 17  0]\n",
            " [ 0  1 11]]\n"
          ]
        }
      ]
    },
    {
      "cell_type": "code",
      "source": [
        "#테스트에대한 정확도\n",
        "knn.score(X_test_std, y_test)"
      ],
      "metadata": {
        "colab": {
          "base_uri": "https://localhost:8080/"
        },
        "id": "KzXe6XxSt5iK",
        "outputId": "1d790357-21ca-4faf-a56c-c565b56d39da"
      },
      "execution_count": 35,
      "outputs": [
        {
          "output_type": "execute_result",
          "data": {
            "text/plain": [
              "0.9777777777777777"
            ]
          },
          "metadata": {},
          "execution_count": 35
        }
      ]
    },
    {
      "cell_type": "markdown",
      "source": [
        "KNN으로 테스트 데이터 분류 후 정확도는 약 0.9777777777777777퍼센트 정도의 정확도를 갖는다."
      ],
      "metadata": {
        "id": "vDlj-j2ivPbu"
      }
    }
  ]
}